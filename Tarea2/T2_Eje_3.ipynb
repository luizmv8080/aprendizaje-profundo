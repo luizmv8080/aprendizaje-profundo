{
  "nbformat": 4,
  "nbformat_minor": 0,
  "metadata": {
    "colab": {
      "provenance": [],
      "collapsed_sections": [],
      "authorship_tag": "ABX9TyNYmxtkbDErNSjGLtzOd0P5",
      "include_colab_link": true
    },
    "kernelspec": {
      "name": "python3",
      "display_name": "Python 3"
    },
    "language_info": {
      "name": "python"
    }
  },
  "cells": [
    {
      "cell_type": "markdown",
      "metadata": {
        "id": "view-in-github",
        "colab_type": "text"
      },
      "source": [
        "<a href=\"https://colab.research.google.com/github/luizmv8080/aprendizaje-profundo/blob/main/Tarea2/T2_Eje_3.ipynb\" target=\"_parent\"><img src=\"https://colab.research.google.com/assets/colab-badge.svg\" alt=\"Open In Colab\"/></a>"
      ]
    },
    {
      "cell_type": "markdown",
      "source": [
        "#**Ejercicio 3 Tarea 2**\n",
        "\n",
        "\n",
        "Luis Eduardo Mayorga Villalobos"
      ],
      "metadata": {
        "id": "aWd3zhzYwhaW"
      }
    },
    {
      "cell_type": "code",
      "source": [
        "!pip install torchinfo\n",
        "!pip install zarr"
      ],
      "metadata": {
        "colab": {
          "base_uri": "https://localhost:8080/"
        },
        "id": "Ct3FLBLWv_Iw",
        "outputId": "96e118d1-2968-42c4-e485-7fa5d590e6ba"
      },
      "execution_count": null,
      "outputs": [
        {
          "output_type": "stream",
          "name": "stdout",
          "text": [
            "Looking in indexes: https://pypi.org/simple, https://us-python.pkg.dev/colab-wheels/public/simple/\n",
            "Collecting torchinfo\n",
            "  Downloading torchinfo-1.7.1-py3-none-any.whl (22 kB)\n",
            "Installing collected packages: torchinfo\n",
            "Successfully installed torchinfo-1.7.1\n",
            "Looking in indexes: https://pypi.org/simple, https://us-python.pkg.dev/colab-wheels/public/simple/\n",
            "Collecting zarr\n",
            "  Downloading zarr-2.12.0-py3-none-any.whl (185 kB)\n",
            "\u001b[K     |████████████████████████████████| 185 kB 5.1 MB/s \n",
            "\u001b[?25hCollecting asciitree\n",
            "  Downloading asciitree-0.3.3.tar.gz (4.0 kB)\n",
            "Collecting numcodecs>=0.6.4\n",
            "  Downloading numcodecs-0.10.2-cp37-cp37m-manylinux_2_17_x86_64.manylinux2014_x86_64.whl (6.6 MB)\n",
            "\u001b[K     |████████████████████████████████| 6.6 MB 31.6 MB/s \n",
            "\u001b[?25hCollecting fasteners\n",
            "  Downloading fasteners-0.18-py3-none-any.whl (18 kB)\n",
            "Requirement already satisfied: numpy>=1.7 in /usr/local/lib/python3.7/dist-packages (from zarr) (1.21.6)\n",
            "Requirement already satisfied: typing-extensions>=3.7.4 in /usr/local/lib/python3.7/dist-packages (from numcodecs>=0.6.4->zarr) (4.1.1)\n",
            "Requirement already satisfied: entrypoints in /usr/local/lib/python3.7/dist-packages (from numcodecs>=0.6.4->zarr) (0.4)\n",
            "Building wheels for collected packages: asciitree\n",
            "  Building wheel for asciitree (setup.py) ... \u001b[?25l\u001b[?25hdone\n",
            "  Created wheel for asciitree: filename=asciitree-0.3.3-py3-none-any.whl size=5050 sha256=0d430a13681294352f880554962740e8c57374c3802fb2adbf090976fa5236de\n",
            "  Stored in directory: /root/.cache/pip/wheels/12/1c/38/0def51e15add93bff3f4bf9c248b94db0839b980b8535e72a0\n",
            "Successfully built asciitree\n",
            "Installing collected packages: numcodecs, fasteners, asciitree, zarr\n",
            "Successfully installed asciitree-0.3.3 fasteners-0.18 numcodecs-0.10.2 zarr-2.12.0\n"
          ]
        }
      ]
    },
    {
      "cell_type": "code",
      "execution_count": null,
      "metadata": {
        "id": "9JmGZxtvvpOi"
      },
      "outputs": [],
      "source": [
        "import os\n",
        "import random\n",
        "import tarfile\n",
        "from os.path import join\n",
        "import numpy as np\n",
        "import torch\n",
        "import torch.nn as nn\n",
        "import torch.nn.functional as F\n",
        "import torch.optim as optim\n",
        "import torchvision.datasets.utils as tvu\n",
        "import zarr\n",
        "from torch.utils.data import DataLoader, random_split\n",
        "from torchinfo import summary\n",
        "import matplotlib.pyplot as plt\n",
        "\n",
        "#Definimos nuestras constantes\n",
        "DATA_DIR = '../data'\n",
        "BATCH_SIZE = 32\n",
        "FEAT_SIZE = 1024\n",
        "MARKER = 'o'\n",
        "MARKER_SIZE = 4\n",
        "SEED = 0\n",
        "random.seed(SEED)\n",
        "np.random.seed(SEED)\n",
        "torch_gen = torch.manual_seed(SEED)"
      ]
    },
    {
      "cell_type": "code",
      "source": [
        "#Creamos funciones para graficar las curvas de perdida y de exactitud\n",
        "def display_losses(loss_cnn, loss_rnn,loss_rnn2,nombre_modelo):\n",
        "  \n",
        "  plt.plot(loss_rnn,label='RNN',marker=MARKER,markersize=MARKER_SIZE)\n",
        "  plt.plot(loss_rnn2,label='RNN2',marker=MARKER,markersize=MARKER_SIZE)\n",
        "  plt.plot(loss_cnn,label='CNN',marker=MARKER,markersize=MARKER_SIZE)\n",
        "  plt.xlabel('Epochs')\n",
        "  plt.ylabel('Loss')\n",
        "  plt.title(nombre_modelo+'loss')\n",
        "  plt.grid()\n",
        "  plt.legend()\n",
        "  plt.show()\n",
        "\n",
        "def display_acc(acc_cnn,acc_rnn, acc_rnn2,nombre_modelo):\n",
        "\n",
        "  plt.plot(acc_rnn,label='RNN',marker=MARKER,markersize=MARKER_SIZE)\n",
        "  plt.plot(acc_rnn2,label='RNN2',marker=MARKER,markersize=MARKER_SIZE)\n",
        "  plt.plot(acc_cnn,label='CNN',marker=MARKER,markersize=MARKER_SIZE)\n",
        "  plt.xlabel('Epochs')\n",
        "  plt.ylabel('Acc')\n",
        "  plt.title(nombre_modelo+'acc')\n",
        "  plt.grid()\n",
        "  plt.legend()\n",
        "  plt.show()\n",
        "\n",
        "\n",
        "set_seed()"
      ],
      "metadata": {
        "id": "eiMPzPVe6MdV"
      },
      "execution_count": null,
      "outputs": []
    },
    {
      "cell_type": "code",
      "source": [
        "#Para los archivos de UCF11\n",
        "class UCF11:\n",
        "\n",
        "    def __init__(self, root, download=False):\n",
        "        self.root = root\n",
        "        self.zarr_dir = join(root, 'ucf11.zarr')\n",
        "        if download:\n",
        "            self.download()\n",
        "        self.z = zarr.open(self.zarr_dir, 'r')\n",
        "        self.paths = list(self.z.array_keys())\n",
        "        \n",
        "    def __getitem__(self, i):\n",
        "        arr = self.z[self.paths[i]]\n",
        "        x = np.array(arr)\n",
        "        y = np.array(arr.attrs['y'], dtype=np.int64)\n",
        "        return x, y\n",
        "\n",
        "    def __len__(self):\n",
        "        return len(self.paths)\n",
        "    \n",
        "    def _check_integrity(self):\n",
        "        return os.path.isdir(self.zarr_dir)\n",
        "    \n",
        "    def _extract(self, root, filename):\n",
        "        tar = tarfile.open(join(root, filename), \"r:gz\")\n",
        "        tar.extractall(root)\n",
        "        tar.close()\n",
        "\n",
        "    def download(self):\n",
        "        if self._check_integrity():\n",
        "            print('Files already downloaded and verified')\n",
        "            return\n",
        "        tvu.download_url(\n",
        "            url='https://cloud.xibalba.com.mx/s/apYrNA4iM4K65o7/download',\n",
        "            root=self.root,\n",
        "            filename='ucf11.zarr.tar.gz',\n",
        "            md5='c8a82454f9ec092d00bcd99c849e03fd'\n",
        "        )\n",
        "        self._extract(self.root, 'ucf11.zarr.tar.gz')"
      ],
      "metadata": {
        "id": "t2lexFaZvxDH"
      },
      "execution_count": null,
      "outputs": []
    },
    {
      "cell_type": "code",
      "source": [
        "#FUNCION DE ENTRENAMIENDO\n",
        "def train(model):\n",
        "  opt = optim.Adam(model.parameters(), lr=1e-4)\n",
        "  EPOCHS = 100\n",
        "  loss_t = []\n",
        "  acc_t = []\n",
        "  for epoch in range(EPOCHS):\n",
        "\n",
        "    model.train()\n",
        "    \n",
        "    for x, y_true in trn_dl:\n",
        "        \n",
        "        y_lgts = model(x)        \n",
        "        loss = F.cross_entropy(y_lgts, y_true)        \n",
        "        opt.zero_grad()       \n",
        "        loss.backward()    \n",
        "        opt.step()\n",
        "\n",
        "    with torch.no_grad():\n",
        " \n",
        "        model.eval()\n",
        "        losses, accs = [], []\n",
        "        \n",
        "        for x, y_true in tst_dl:\n",
        "            \n",
        "            y_lgts = model(x)\n",
        "            y_prob = F.softmax(y_lgts, 1)\n",
        "            y_pred = torch.argmax(y_prob, 1)\n",
        "            loss = F.cross_entropy(y_lgts, y_true)\n",
        "            acc = (y_true == y_pred).type(torch.float32).mean()\n",
        "            losses.append(loss.item() * 100)\n",
        "            accs.append(acc.item() * 100)\n",
        "\n",
        "        loss = np.mean(losses)\n",
        "        acc = np.mean(accs)\n",
        "\n",
        "        loss_t.append(loss)\n",
        "        acc_t.append(acc)\n",
        "\n",
        "  return loss_t,acc_t"
      ],
      "metadata": {
        "id": "sYMZW4pfgs2m"
      },
      "execution_count": null,
      "outputs": []
    },
    {
      "cell_type": "code",
      "source": [
        "ds = UCF11(join(DATA_DIR, 'ucf11'), True)\n",
        "x, y = ds[0]\n",
        "print(f'x shape={x.shape} dtype={x.dtype}')\n",
        "print(f'x [0][:5]={x[0][:5]}')\n",
        "print(f'y shape={y.shape} dtype={y.dtype} {y}')\n",
        "print(f'y {y}')"
      ],
      "metadata": {
        "colab": {
          "base_uri": "https://localhost:8080/"
        },
        "id": "vvXW9xgjyh83",
        "outputId": "be40da46-1fcb-4990-c1a0-7f4edf88afeb"
      },
      "execution_count": null,
      "outputs": [
        {
          "output_type": "stream",
          "name": "stdout",
          "text": [
            "Files already downloaded and verified\n",
            "x shape=(10, 1024) dtype=float32\n",
            "x [0][:5]=[0.00022111 0.00368518 0.00314753 0.00201778 0.09296297]\n",
            "y shape=() dtype=int64 0\n",
            "y 0\n"
          ]
        }
      ]
    },
    {
      "cell_type": "code",
      "source": [
        "trn_size = int(0.8 * len(ds))\n",
        "tst_size = len(ds) - trn_size\n",
        "trn_ds, tst_ds = random_split(ds, [trn_size, tst_size])\n",
        "len(trn_ds), len(tst_ds)"
      ],
      "metadata": {
        "colab": {
          "base_uri": "https://localhost:8080/"
        },
        "id": "8FKr9l5symSn",
        "outputId": "90cbfabe-9cb2-4b1a-fe5d-466731953621"
      },
      "execution_count": null,
      "outputs": [
        {
          "output_type": "execute_result",
          "data": {
            "text/plain": [
              "(1279, 320)"
            ]
          },
          "metadata": {},
          "execution_count": 103
        }
      ]
    },
    {
      "cell_type": "code",
      "source": [
        "#tRANSFORMACIONES PARA EL CONJUNTO DE TRAAIN Y TEST\n",
        "trn_dl = DataLoader(\n",
        "\n",
        "    trn_ds,\n",
        "    batch_size=BATCH_SIZE,\n",
        "    shuffle=True,\n",
        "    num_workers=2\n",
        ")\n",
        "tst_dl = DataLoader(\n",
        "    tst_ds,\n",
        "    batch_size=BATCH_SIZE,\n",
        "    shuffle=True,\n",
        "    num_workers=2\n",
        ")"
      ],
      "metadata": {
        "id": "SvTQRcfjyp08"
      },
      "execution_count": null,
      "outputs": []
    },
    {
      "cell_type": "code",
      "source": [
        "x, y = next(iter(trn_dl))\n",
        "print(f'x shape={x.shape} dtype={x.dtype}')\n",
        "print(f'y shape={y.shape} dtype={y.dtype}')"
      ],
      "metadata": {
        "colab": {
          "base_uri": "https://localhost:8080/"
        },
        "id": "lKXbv7_pyv4t",
        "outputId": "89d2aab6-6c21-4135-c600-796e6b1e12cd"
      },
      "execution_count": null,
      "outputs": [
        {
          "output_type": "stream",
          "name": "stdout",
          "text": [
            "x shape=torch.Size([32, 10, 1024]) dtype=torch.float32\n",
            "y shape=torch.Size([32]) dtype=torch.int64\n"
          ]
        }
      ]
    },
    {
      "cell_type": "markdown",
      "source": [
        "**RNN**"
      ],
      "metadata": {
        "id": "SmmpWQzh2gry"
      }
    },
    {
      "cell_type": "code",
      "source": [
        "#DEFINIMOS NUESTRO BLOQUE RNN\n",
        "class RNN(nn.Module): \n",
        "\n",
        "    def __init__(self, input_size=1024, hidden_size=128, num_classes=11):\n",
        "        super().__init__()\n",
        "        self.bn = nn.BatchNorm1d(input_size)\n",
        "        #Se define de la misma manera en que se hace en clase, simplemente\n",
        "        #en GRU se le agrega un parametro \"bidirectional = True\"\n",
        "        self.rnn = nn.GRU(input_size=input_size, hidden_size=hidden_size,\n",
        "                          num_layers=1, batch_first=True, bidirectional = True)\n",
        "        #Despues en la linear se duplica el hidden_size, ya que entran el doble\n",
        "        # de parametros, los que venian por default y los de la salida anterior\n",
        "        self.cls = nn.Linear(2*hidden_size, num_classes)\n",
        "\n",
        "    def forward(self, x):\n",
        "\n",
        "        x = x.movedim(1, 2)\n",
        "        x = self.bn(x)\n",
        "        x = x.movedim(1, 2)\n",
        "        x, _ = self.rnn(x)\n",
        "        x = x[:, -1, :]\n",
        "        x = self.cls(x)\n",
        "        \n",
        "        return x"
      ],
      "metadata": {
        "id": "rAtL0CWBzOyU"
      },
      "execution_count": null,
      "outputs": []
    },
    {
      "cell_type": "code",
      "source": [
        "model_rnn = RNN().eval()\n",
        "model_rnn(torch.zeros(1, 10, 1024)).shape"
      ],
      "metadata": {
        "colab": {
          "base_uri": "https://localhost:8080/"
        },
        "id": "-ZVpx0120Ri9",
        "outputId": "2f613b25-0f5b-450c-a39a-534448221cf3"
      },
      "execution_count": null,
      "outputs": [
        {
          "output_type": "execute_result",
          "data": {
            "text/plain": [
              "torch.Size([1, 11])"
            ]
          },
          "metadata": {},
          "execution_count": 107
        }
      ]
    },
    {
      "cell_type": "code",
      "source": [
        "summary(model_rnn, (1, 10, 1024), device='cpu', verbose=0)"
      ],
      "metadata": {
        "colab": {
          "base_uri": "https://localhost:8080/"
        },
        "id": "B81RoihY0U94",
        "outputId": "2a20332d-e26b-4cea-cf22-c117ca94f00b"
      },
      "execution_count": null,
      "outputs": [
        {
          "output_type": "execute_result",
          "data": {
            "text/plain": [
              "==========================================================================================\n",
              "Layer (type:depth-idx)                   Output Shape              Param #\n",
              "==========================================================================================\n",
              "RNN                                      [1, 11]                   --\n",
              "├─BatchNorm1d: 1-1                       [1, 1024, 10]             2,048\n",
              "├─GRU: 1-2                               [1, 10, 256]              886,272\n",
              "├─Linear: 1-3                            [1, 11]                   2,827\n",
              "==========================================================================================\n",
              "Total params: 891,147\n",
              "Trainable params: 891,147\n",
              "Non-trainable params: 0\n",
              "Total mult-adds (M): 8.87\n",
              "==========================================================================================\n",
              "Input size (MB): 0.04\n",
              "Forward/backward pass size (MB): 0.10\n",
              "Params size (MB): 3.56\n",
              "Estimated Total Size (MB): 3.71\n",
              "=========================================================================================="
            ]
          },
          "metadata": {},
          "execution_count": 108
        }
      ]
    },
    {
      "cell_type": "code",
      "source": [
        "loss_t_rnn,acc_t_rnn = train(model_rnn)"
      ],
      "metadata": {
        "id": "Xv1K_y0R0iCK"
      },
      "execution_count": null,
      "outputs": []
    },
    {
      "cell_type": "markdown",
      "source": [
        "**CNN**"
      ],
      "metadata": {
        "id": "a6CDUkot4Og6"
      }
    },
    {
      "cell_type": "code",
      "source": [
        "#Ahora vamos a definir nuestro bloque convolucional con \"Conv1d\"\n",
        "from torch.nn.modules.conv import Conv1d\n",
        "\n",
        "class CNN(nn.Module):\n",
        "    \n",
        "\n",
        "    def __init__(self):\n",
        "\n",
        "        super(CNN, self).__init__()\n",
        "        self.num_feats = 11*1024\n",
        "        self.cnn = nn.Sequential(\n",
        "            Conv1d(in_channels=10, out_channels=11, kernel_size = 3, padding = 1),\n",
        "            nn.ReLU()\n",
        "        )\n",
        "\n",
        "        self.flatten = nn.Flatten()\n",
        "        self.cls = nn.Linear(self.num_feats, 11)\n",
        "    \n",
        "    def forward(self, x):\n",
        "        x = self.cnn(x)\n",
        "        x = self.flatten(x)\n",
        "        x = self.cls(x)\n",
        "        return x"
      ],
      "metadata": {
        "id": "33I7A3Vo0yJE"
      },
      "execution_count": null,
      "outputs": []
    },
    {
      "cell_type": "code",
      "source": [
        "x.shape"
      ],
      "metadata": {
        "colab": {
          "base_uri": "https://localhost:8080/"
        },
        "id": "loAu-gSaqS_C",
        "outputId": "4cd489d7-500a-471c-cc14-7d968ddbefcf"
      },
      "execution_count": null,
      "outputs": [
        {
          "output_type": "execute_result",
          "data": {
            "text/plain": [
              "torch.Size([32, 10, 1024])"
            ]
          },
          "metadata": {},
          "execution_count": 111
        }
      ]
    },
    {
      "cell_type": "code",
      "source": [
        "model_cnn = CNN().eval()\n",
        "model_cnn(torch.zeros(1, 10, 1024)).shape"
      ],
      "metadata": {
        "colab": {
          "base_uri": "https://localhost:8080/"
        },
        "id": "OkktRwG7J_PO",
        "outputId": "49303fad-9f4d-4e7e-babc-4b11bbd79945"
      },
      "execution_count": null,
      "outputs": [
        {
          "output_type": "execute_result",
          "data": {
            "text/plain": [
              "torch.Size([1, 11])"
            ]
          },
          "metadata": {},
          "execution_count": 112
        }
      ]
    },
    {
      "cell_type": "code",
      "source": [
        "summary(model_cnn, (1, 10, 1024), device='cpu', verbose=0)"
      ],
      "metadata": {
        "colab": {
          "base_uri": "https://localhost:8080/"
        },
        "id": "q-4R4ycLzrjf",
        "outputId": "da6e881f-5d02-4521-ceca-6acdb5a6cdbc"
      },
      "execution_count": null,
      "outputs": [
        {
          "output_type": "execute_result",
          "data": {
            "text/plain": [
              "==========================================================================================\n",
              "Layer (type:depth-idx)                   Output Shape              Param #\n",
              "==========================================================================================\n",
              "CNN                                      [1, 11]                   --\n",
              "├─Sequential: 1-1                        [1, 11, 1024]             --\n",
              "│    └─Conv1d: 2-1                       [1, 11, 1024]             341\n",
              "│    └─ReLU: 2-2                         [1, 11, 1024]             --\n",
              "├─Flatten: 1-2                           [1, 11264]                --\n",
              "├─Linear: 1-3                            [1, 11]                   123,915\n",
              "==========================================================================================\n",
              "Total params: 124,256\n",
              "Trainable params: 124,256\n",
              "Non-trainable params: 0\n",
              "Total mult-adds (M): 0.47\n",
              "==========================================================================================\n",
              "Input size (MB): 0.04\n",
              "Forward/backward pass size (MB): 0.09\n",
              "Params size (MB): 0.50\n",
              "Estimated Total Size (MB): 0.63\n",
              "=========================================================================================="
            ]
          },
          "metadata": {},
          "execution_count": 113
        }
      ]
    },
    {
      "cell_type": "code",
      "source": [
        "loss_t_cnn, acc_t_cnn = train(model_cnn)"
      ],
      "metadata": {
        "id": "yweK60WtKABn"
      },
      "execution_count": null,
      "outputs": []
    },
    {
      "cell_type": "markdown",
      "source": [
        "**Igualando el numero de parametros de la red RNN con los de la CNN**\n",
        "\n",
        "Podemos ver que el numero de parametros de CNN son 124,256 y de la RNN son de 891,147, asi que para igualar este numero de parametros, debemos bajarle el numero de hidden_size de RNN"
      ],
      "metadata": {
        "id": "DCYl6XThh_3-"
      }
    },
    {
      "cell_type": "code",
      "source": [
        "class RNN2(nn.Module):\n",
        "\n",
        "    #Le bajamos a 19 para que disminuyan el numero de parametros entrenables\n",
        "    def __init__(self, input_size=1024, hidden_size=19, num_classes=11):\n",
        "        super().__init__()\n",
        "        self.bn = nn.BatchNorm1d(input_size)\n",
        "        self.rnn = nn.GRU(input_size=input_size, hidden_size=hidden_size,\n",
        "                          num_layers=1, batch_first=True, bidirectional = True)\n",
        "        self.cls = nn.Linear(2*hidden_size, num_classes)\n",
        "\n",
        "    def forward(self, x):\n",
        "        x = x.movedim(1, 2)\n",
        "        x = self.bn(x)\n",
        "        x = x.movedim(1, 2)\n",
        "        x, _ = self.rnn(x)\n",
        "        x = x[:, -1, :]\n",
        "        x = self.cls(x)\n",
        "        \n",
        "        return x"
      ],
      "metadata": {
        "id": "v-FKZw-VirHo"
      },
      "execution_count": null,
      "outputs": []
    },
    {
      "cell_type": "code",
      "source": [
        "model_rnn2 = RNN2().eval()\n",
        "model_rnn2(torch.zeros(1, 10, 1024)).shape"
      ],
      "metadata": {
        "colab": {
          "base_uri": "https://localhost:8080/"
        },
        "id": "F6wrtYrdirPX",
        "outputId": "16b34ed8-d1a1-48ee-a688-177ff5849239"
      },
      "execution_count": null,
      "outputs": [
        {
          "output_type": "execute_result",
          "data": {
            "text/plain": [
              "torch.Size([1, 11])"
            ]
          },
          "metadata": {},
          "execution_count": 116
        }
      ]
    },
    {
      "cell_type": "code",
      "source": [
        "summary(model_rnn2, (1, 10, 1024), device='cpu', verbose=0)"
      ],
      "metadata": {
        "colab": {
          "base_uri": "https://localhost:8080/"
        },
        "id": "OduOR2LDi3Dt",
        "outputId": "f48edebe-8733-4842-9522-0328acd9dffd"
      },
      "execution_count": null,
      "outputs": [
        {
          "output_type": "execute_result",
          "data": {
            "text/plain": [
              "==========================================================================================\n",
              "Layer (type:depth-idx)                   Output Shape              Param #\n",
              "==========================================================================================\n",
              "RNN2                                     [1, 11]                   --\n",
              "├─BatchNorm1d: 1-1                       [1, 1024, 10]             2,048\n",
              "├─GRU: 1-2                               [1, 10, 38]               119,130\n",
              "├─Linear: 1-3                            [1, 11]                   429\n",
              "==========================================================================================\n",
              "Total params: 121,607\n",
              "Trainable params: 121,607\n",
              "Non-trainable params: 0\n",
              "Total mult-adds (M): 1.19\n",
              "==========================================================================================\n",
              "Input size (MB): 0.04\n",
              "Forward/backward pass size (MB): 0.09\n",
              "Params size (MB): 0.49\n",
              "Estimated Total Size (MB): 0.61\n",
              "=========================================================================================="
            ]
          },
          "metadata": {},
          "execution_count": 117
        }
      ]
    },
    {
      "cell_type": "code",
      "source": [
        "loss_t_rnn2, acc_t_rnn2 = train(model_rnn2)"
      ],
      "metadata": {
        "id": "ipprE3ggi3Li"
      },
      "execution_count": null,
      "outputs": []
    },
    {
      "cell_type": "markdown",
      "source": [
        "**Comparacion de modelos**"
      ],
      "metadata": {
        "id": "rfmiO6TVjYUm"
      }
    },
    {
      "cell_type": "code",
      "source": [
        "display_losses(loss_t_cnn, loss_t_rnn,loss_t_rnn2,'CNN, RNN y RNN2 ')"
      ],
      "metadata": {
        "colab": {
          "base_uri": "https://localhost:8080/",
          "height": 316
        },
        "id": "Kkx4_sOLu7gd",
        "outputId": "2c465619-8692-4ca2-898f-549f12074417"
      },
      "execution_count": null,
      "outputs": [
        {
          "output_type": "display_data",
          "data": {
            "text/plain": [
              "<Figure size 432x288 with 1 Axes>"
            ],
            "image/png": "[encoded data removed]"
          },
          "metadata": {
            "needs_background": "light"
          }
        }
      ]
    },
    {
      "cell_type": "code",
      "source": [
        "display_acc(acc_t_cnn,acc_t_rnn,acc_t_rnn2, 'CNN, RNN y RNN2 ')"
      ],
      "metadata": {
        "id": "Cn8kS93T5VnN",
        "colab": {
          "base_uri": "https://localhost:8080/",
          "height": 316
        },
        "outputId": "fbf906e0-abf3-4209-f515-24a7b449fd99"
      },
      "execution_count": null,
      "outputs": [
        {
          "output_type": "display_data",
          "data": {
            "text/plain": [
              "<Figure size 432x288 with 1 Axes>"
            ],
            "image/png": "[encoded data removed]"
          },
          "metadata": {
            "needs_background": "light"
          }
        }
      ]
    },
    {
      "cell_type": "markdown",
      "source": [
        "**Podemos darnos cuenta que el numero de hiddensize es importante para que tenga un mejor rendimiento una red RNN, ya que si vemos que si son pocos, tiene el mismo rendimiento que una simple convolucional 1d y su desempeño es hasta peor.**"
      ],
      "metadata": {
        "id": "NSYtEKDNwDEo"
      }
    },
    {
      "cell_type": "code",
      "source": [],
      "metadata": {
        "id": "kTRqM_qlOf5Z"
      },
      "execution_count": null,
      "outputs": []
    }
  ]
}