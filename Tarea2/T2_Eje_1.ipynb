{
  "nbformat": 4,
  "nbformat_minor": 0,
  "metadata": {
    "colab": {
      "provenance": [],
      "collapsed_sections": [],
      "authorship_tag": "ABX9TyN1t83dkxyD1n0jeBdrcOA0",
      "include_colab_link": true
    },
    "kernelspec": {
      "name": "python3",
      "display_name": "Python 3"
    },
    "language_info": {
      "name": "python"
    }
  },
  "cells": [
    {
      "cell_type": "markdown",
      "metadata": {
        "id": "view-in-github",
        "colab_type": "text"
      },
      "source": [
        "<a href=\"https://colab.research.google.com/github/luizmv8080/aprendizaje-profundo/blob/main/Tarea2/T2_Eje_1.ipynb\" target=\"_parent\"><img src=\"https://colab.research.google.com/assets/colab-badge.svg\" alt=\"Open In Colab\"/></a>"
      ]
    },
    {
      "cell_type": "code",
      "execution_count": null,
      "metadata": {
        "id": "TqtrjTf5wllp"
      },
      "outputs": [],
      "source": [
        "import matplotlib.pyplot as plt\n",
        "import numpy as np\n",
        "from sklearn.datasets import load_digits"
      ]
    },
    {
      "cell_type": "code",
      "source": [
        "#Cargamos los datos de load_digits que son menores a 2\n",
        "digits = load_digits() \n",
        "zeros_ones = digits.target < 2\n",
        "data = digits.images[zeros_ones]\n",
        "labels = digits.target[zeros_ones]"
      ],
      "metadata": {
        "id": "lhB_NAgku1FU"
      },
      "execution_count": null,
      "outputs": []
    },
    {
      "cell_type": "code",
      "source": [
        "#Normalizamos las matrices de los datos\n",
        "data = data / data.max()"
      ],
      "metadata": {
        "id": "tlq8mOFsu6CN"
      },
      "execution_count": null,
      "outputs": []
    },
    {
      "cell_type": "code",
      "source": [
        "#Inspeccionamos nuestros datos\n",
        "fig, axs = plt.subplots(1, 2, figsize=(10, 5))\n",
        "axs[0].imshow(data[0], cmap = 'gray') \n",
        "axs[0].set_title('Ejemplo de dígito 0')\n",
        "axs[1].imshow(data[1], cmap = 'gray') \n",
        "axs[1].set_title('Ejemplo de dígito 1')\n",
        "plt.show() "
      ],
      "metadata": {
        "colab": {
          "base_uri": "https://localhost:8080/",
          "height": 338
        },
        "id": "lSDVP7urvJPT",
        "outputId": "389db857-42f4-4548-d3b4-f18e74055949"
      },
      "execution_count": null,
      "outputs": [
        {
          "output_type": "display_data",
          "data": {
            "text/plain": [
              "<Figure size 720x360 with 2 Axes>"
            ],
            "image/png": "[encoded data removed]"
          },
          "metadata": {
            "needs_background": "light"
          }
        }
      ]
    },
    {
      "cell_type": "code",
      "source": [
        "#Convertimos las imagenes 2D de load_digits en itensores de tres canales\n",
        "digits = np.stack((data,data,data)).transpose((1,2,3,0))\n",
        "print(digits.shape)"
      ],
      "metadata": {
        "colab": {
          "base_uri": "https://localhost:8080/"
        },
        "id": "0fgxwLGBvMwG",
        "outputId": "9f706ef2-d958-40d0-c8b3-84362854f3da"
      },
      "execution_count": null,
      "outputs": [
        {
          "output_type": "stream",
          "name": "stdout",
          "text": [
            "(360, 8, 8, 3)\n"
          ]
        }
      ]
    },
    {
      "cell_type": "code",
      "source": [
        "a = np.zeros((3,2, 2))\n",
        "a"
      ],
      "metadata": {
        "colab": {
          "base_uri": "https://localhost:8080/"
        },
        "id": "rF69JQhOvjxW",
        "outputId": "8032851a-d616-47fe-9a2f-ec837d228e3f"
      },
      "execution_count": null,
      "outputs": [
        {
          "output_type": "execute_result",
          "data": {
            "text/plain": [
              "array([[[0., 0.],\n",
              "        [0., 0.]],\n",
              "\n",
              "       [[0., 0.],\n",
              "        [0., 0.]],\n",
              "\n",
              "       [[0., 0.],\n",
              "        [0., 0.]]])"
            ]
          },
          "metadata": {},
          "execution_count": 26
        }
      ]
    },
    {
      "cell_type": "code",
      "source": [
        "digits[0].shape"
      ],
      "metadata": {
        "colab": {
          "base_uri": "https://localhost:8080/"
        },
        "id": "6Hlhvc-rvxhv",
        "outputId": "b7c45e54-d892-4bd2-cfc5-a24da4e263b8"
      },
      "execution_count": null,
      "outputs": [
        {
          "output_type": "execute_result",
          "data": {
            "text/plain": [
              "(8, 8, 3)"
            ]
          },
          "metadata": {},
          "execution_count": 27
        }
      ]
    },
    {
      "cell_type": "code",
      "source": [
        "#Definimos nuestra funcion de convolucion 3D\n",
        "def conv3d(I, W, b, stride = 1):\n",
        "    #Como el numero de canales de las imagenes esta en la tercera coordenada\n",
        "    #y como la de el vectos del filtro esta en la primera, debemos hacer que las\n",
        "    #coordenadas de ambos coincidan mutuamente\n",
        "    I = I.transpose((2,0,1))\n",
        "    h_s = int(np.floor((I.shape[1] - W.shape[1]) / stride)) + 1\n",
        "    w_s = int(np.floor((I.shape[2] - W.shape[2]) / stride)) + 1\n",
        "    a = np.zeros((3,h_s, w_s))\n",
        "    for d in range(3):\n",
        "        for i in range(h_s):\n",
        "            for j in range(w_s):\n",
        "                I_m = I[d,i * stride:i * stride + W.shape[1], j * stride:j * stride + W.shape[2]]\n",
        "                a[d,i, j] = (I_m * W[d,:,:]).sum() + b\n",
        "\n",
        "    #Sumamos todas las convoluciones que se hicieron para cada dimension para que asi la salida\n",
        "    #solo sea un tensor de un canal             \n",
        "    return a[0,:,:]+a[1,:,:]+a[2,:,:]\n",
        "   "
      ],
      "metadata": {
        "id": "V0cgOx6Uv3d8"
      },
      "execution_count": null,
      "outputs": []
    },
    {
      "cell_type": "code",
      "source": [
        "#Creamos un filtro de tres canales para convolucionarlo con la imagen\n",
        "filter1 = np.zeros((3,3,3))\n",
        "r = np.arange(3)\n",
        "filter1[:, r, r] = 1\n",
        "filter1 = filter1.transpose((1,2,0))\n",
        "\n",
        "filter2 = np.zeros((3,3,3))\n",
        "r2 = np.arange(3)\n",
        "filter2[:, 1, r2] = 1\n",
        "filter2 = filter2.transpose((1,2,0))\n",
        "\n",
        "filter3 = np.zeros((3,3,3))\n",
        "r3 = np.arange(3)\n",
        "filter3[:, r3, 1] = 1\n",
        "filter3 = filter3.transpose((1,2,0))\n",
        "\n",
        "filter4 = np.zeros((3,3,3))\n",
        "r4 = np.arange(3)\n",
        "filter4[:,-1+r4, -r4] = 1\n",
        "filter4 = filter4.transpose((1,2,0))\n",
        "\n",
        "b = np.zeros(4)\n",
        "\n",
        "filtros = [filter1,filter2,filter3,filter4]"
      ],
      "metadata": {
        "id": "_8Zutub2v_-_"
      },
      "execution_count": null,
      "outputs": []
    },
    {
      "cell_type": "code",
      "source": [
        "#Definimos una funcion para convolucionar cada uno de los filtros con la imagen\n",
        "def multi_conv3d(I, filtros, b, stride = 1):\n",
        "    activations = []\n",
        "    for i in range(len(filtros)):\n",
        "        activations.append(conv3d(I, filtros[i], b[i], stride = 1)) \n",
        "                       \n",
        "    return np.array(activations)"
      ],
      "metadata": {
        "id": "1s8sFW9yxHTD"
      },
      "execution_count": null,
      "outputs": []
    },
    {
      "cell_type": "code",
      "source": [
        "#Aplicamos la convolucion con cada uno de los filtros creados, una para el cero y otra para el 1\n",
        "activations_0 = np.tanh(multi_conv3d(digits[0], filtros, b))\n",
        "activations_1 = np.tanh(multi_conv3d(digits[1], filtros, b))"
      ],
      "metadata": {
        "id": "_RlXvR-QxLM6"
      },
      "execution_count": null,
      "outputs": []
    },
    {
      "cell_type": "code",
      "source": [
        "#Desplegamos como se ven los filtros y su respectiva activacion\n",
        "#Esta imagen de abajo es para el numero 1\n",
        "for i in range(4):\n",
        "    plt.subplot(3,4,i + 1)\n",
        "    plt.imshow(filtros[i])\n",
        "    plt.subplot(3,4,i + 9)\n",
        "    plt.imshow(activations_1[i], cmap='gray')"
      ],
      "metadata": {
        "colab": {
          "base_uri": "https://localhost:8080/",
          "height": 285
        },
        "id": "xrc7YKomxQb9",
        "outputId": "c009e470-d6fa-42d2-d86e-210f5e3141d0"
      },
      "execution_count": null,
      "outputs": [
        {
          "output_type": "display_data",
          "data": {
            "text/plain": [
              "<Figure size 432x288 with 8 Axes>"
            ],
            "image/png": "[encoded data removed]"
          },
          "metadata": {
            "needs_background": "light"
          }
        }
      ]
    },
    {
      "cell_type": "code",
      "source": [
        "#Activaciones para el numero 0\n",
        "for i in range(4):\n",
        "    plt.subplot(3,4,i + 1)\n",
        "    plt.imshow(filtros[i])\n",
        "    plt.subplot(3,4,i + 9)\n",
        "    plt.imshow(activations_0[i], cmap='gray')"
      ],
      "metadata": {
        "colab": {
          "base_uri": "https://localhost:8080/",
          "height": 285
        },
        "id": "h9uhwu4oyo-8",
        "outputId": "97a1b44b-d4e1-4b81-e2bc-1afdb2c8190b"
      },
      "execution_count": null,
      "outputs": [
        {
          "output_type": "display_data",
          "data": {
            "text/plain": [
              "<Figure size 432x288 with 8 Axes>"
            ],
            "image/png": "[encoded data removed]"
          },
          "metadata": {
            "needs_background": "light"
          }
        }
      ]
    },
    {
      "cell_type": "code",
      "source": [
        "#Se crean funciones para hacer un submuestreo maximo y por lo tanto\n",
        "#usarla para hacer un multimuestreo maximo\n",
        "def submuestreo_maximo(activations, block = (2,2)):\n",
        "    H, W = activations.shape\n",
        "    H_s = H // block[0]\n",
        "    W_s = W // block[1]\n",
        "\n",
        "    sub_a = np.zeros((H_s,W_s))\n",
        "    max_x = activations.reshape((H * W_s, block[1])).max(axis = 1)\n",
        "    sub_a = max_x.T.reshape((W_s, block[0], H_s)).max(axis = 1)\n",
        "  \n",
        "    return sub_a\n",
        "\n",
        "def multi_submuestreo_maximo(activations, block = (2,2)):\n",
        "    k = activations.shape[0]\n",
        "    sub_a = []\n",
        "    for i in range(k):\n",
        "        sub_a.append(submuestreo_maximo(activations[i]))\n",
        "                       \n",
        "    return np.array(sub_a)"
      ],
      "metadata": {
        "id": "5E2gkBt3xc_S"
      },
      "execution_count": null,
      "outputs": []
    },
    {
      "cell_type": "code",
      "source": [
        "#Mostramos el multimuestreo maximo para el numero 1\n",
        "sub_a1 = multi_submuestreo_maximo(activations_1)\n",
        "for i in range(4):  \n",
        "    plt.subplot(2,4,i + 5)\n",
        "    plt.imshow(sub_a1[i], cmap = 'gray')"
      ],
      "metadata": {
        "colab": {
          "base_uri": "https://localhost:8080/",
          "height": 141
        },
        "id": "lQx1vqQvxomQ",
        "outputId": "8031baf4-3654-4d27-bd04-9f3ad15776b4"
      },
      "execution_count": null,
      "outputs": [
        {
          "output_type": "display_data",
          "data": {
            "text/plain": [
              "<Figure size 432x288 with 4 Axes>"
            ],
            "image/png": "[encoded data removed]"
          },
          "metadata": {
            "needs_background": "light"
          }
        }
      ]
    },
    {
      "cell_type": "code",
      "source": [
        "#Mostramos el multimuestreo maximo para el numero cero\n",
        "sub_a2 = multi_submuestreo_maximo(activations_0)\n",
        "for i in range(4):  \n",
        "    plt.subplot(2,4,i + 5)\n",
        "    plt.imshow(sub_a2[i], cmap = 'gray')"
      ],
      "metadata": {
        "id": "IWvUliOvxrue",
        "colab": {
          "base_uri": "https://localhost:8080/",
          "height": 141
        },
        "outputId": "62fef550-09d2-4f12-ee06-97c68cda6bef"
      },
      "execution_count": null,
      "outputs": [
        {
          "output_type": "display_data",
          "data": {
            "text/plain": [
              "<Figure size 432x288 with 4 Axes>"
            ],
            "image/png": "[encoded data removed]"
          },
          "metadata": {
            "needs_background": "light"
          }
        }
      ]
    },
    {
      "cell_type": "code",
      "source": [],
      "metadata": {
        "id": "s8yk0DutFCcz"
      },
      "execution_count": null,
      "outputs": []
    }
  ]
}