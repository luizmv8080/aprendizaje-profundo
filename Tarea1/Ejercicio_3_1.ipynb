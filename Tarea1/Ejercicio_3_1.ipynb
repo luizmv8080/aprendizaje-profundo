{
  "nbformat": 4,
  "nbformat_minor": 0,
  "metadata": {
    "colab": {
      "provenance": [],
      "collapsed_sections": [],
      "authorship_tag": "ABX9TyNbXzR/8n2VPV4+oCr38OyN",
      "include_colab_link": true
    },
    "kernelspec": {
      "name": "python3",
      "display_name": "Python 3"
    },
    "language_info": {
      "name": "python"
    }
  },
  "cells": [
    {
      "cell_type": "markdown",
      "metadata": {
        "id": "view-in-github",
        "colab_type": "text"
      },
      "source": [
        "<a href=\"https://colab.research.google.com/github/luizmv8080/aprendizaje-profundo/blob/main/Tarea1/Ejercicio_3_1.ipynb\" target=\"_parent\"><img src=\"https://colab.research.google.com/assets/colab-badge.svg\" alt=\"Open In Colab\"/></a>"
      ]
    },
    {
      "cell_type": "markdown",
      "source": [
        "# Regresion lineal con Pytorch"
      ],
      "metadata": {
        "id": "MwO4VEkrXj43"
      }
    },
    {
      "cell_type": "markdown",
      "source": [
        "### Grafica los datos en 3D."
      ],
      "metadata": {
        "id": "oTyjJAIJXwfK"
      }
    },
    {
      "cell_type": "code",
      "execution_count": 206,
      "metadata": {
        "id": "fvMBflckXR9n"
      },
      "outputs": [],
      "source": [
        "import os\n",
        "import random\n",
        "import matplotlib.pyplot as plt\n",
        "import numpy as np\n",
        "import pandas as pd\n",
        "import torch\n",
        "import torch.nn as nn\n",
        "import torch.nn.functional as F\n",
        "import torch.optim as optim\n",
        "from torch.utils.data import DataLoader, TensorDataset"
      ]
    },
    {
      "cell_type": "markdown",
      "source": [
        "<b>Exportamos</b> el dataset"
      ],
      "metadata": {
        "id": "VhxXPs0dYJ2F"
      }
    },
    {
      "cell_type": "code",
      "source": [
        "URL = 'https://raw.githubusercontent.com/gibranfp/CursoAprendizajeProfundo/2023-1/data/califs/califs.csv'\n",
        "data_dir = '../data'\n",
        "filepath = os.path.join(data_dir, 'califs.csv')\n",
        "\n",
        "def set_seed(seed=0):\n",
        "    \"\"\"Initializes pseudo-random number generators.\"\"\"\n",
        "    random.seed(seed)\n",
        "    np.random.seed(seed)\n",
        "    torch.manual_seed(seed)\n",
        "\n",
        "! mkdir {data_dir}\n",
        "! wget -nc {URL} -O {filepath}"
      ],
      "metadata": {
        "colab": {
          "base_uri": "https://localhost:8080/"
        },
        "id": "st98f3bAYDZ3",
        "outputId": "55ba2c65-7356-4d20-8365-ea8b5119ea99"
      },
      "execution_count": 207,
      "outputs": [
        {
          "output_type": "stream",
          "name": "stdout",
          "text": [
            "mkdir: cannot create directory ‘../data’: File exists\n",
            "File ‘../data/califs.csv’ already there; not retrieving.\n"
          ]
        }
      ]
    },
    {
      "cell_type": "code",
      "source": [
        "#Echamos un vistazo a los datos importados\n",
        "df = pd.read_csv(filepath)\n",
        "df.head(2)"
      ],
      "metadata": {
        "colab": {
          "base_uri": "https://localhost:8080/",
          "height": 111
        },
        "id": "iC9I7s1IYQVh",
        "outputId": "25fd754d-feb9-4f6d-d9b9-76cc09a62892"
      },
      "execution_count": 208,
      "outputs": [
        {
          "output_type": "execute_result",
          "data": {
            "text/plain": [
              "   prev  horas  calif\n",
              "0   5.6    8.2    5.1\n",
              "1   6.7    9.3    5.9"
            ],
            "text/html": [
              "\n",
              "  <div id=\"df-dd657e45-ef7f-4af9-b2df-ba565a997487\">\n",
              "    <div class=\"colab-df-container\">\n",
              "      <div>\n",
              "<style scoped>\n",
              "    .dataframe tbody tr th:only-of-type {\n",
              "        vertical-align: middle;\n",
              "    }\n",
              "\n",
              "    .dataframe tbody tr th {\n",
              "        vertical-align: top;\n",
              "    }\n",
              "\n",
              "    .dataframe thead th {\n",
              "        text-align: right;\n",
              "    }\n",
              "</style>\n",
              "<table border=\"1\" class=\"dataframe\">\n",
              "  <thead>\n",
              "    <tr style=\"text-align: right;\">\n",
              "      <th></th>\n",
              "      <th>prev</th>\n",
              "      <th>horas</th>\n",
              "      <th>calif</th>\n",
              "    </tr>\n",
              "  </thead>\n",
              "  <tbody>\n",
              "    <tr>\n",
              "      <th>0</th>\n",
              "      <td>5.6</td>\n",
              "      <td>8.2</td>\n",
              "      <td>5.1</td>\n",
              "    </tr>\n",
              "    <tr>\n",
              "      <th>1</th>\n",
              "      <td>6.7</td>\n",
              "      <td>9.3</td>\n",
              "      <td>5.9</td>\n",
              "    </tr>\n",
              "  </tbody>\n",
              "</table>\n",
              "</div>\n",
              "      <button class=\"colab-df-convert\" onclick=\"convertToInteractive('df-dd657e45-ef7f-4af9-b2df-ba565a997487')\"\n",
              "              title=\"Convert this dataframe to an interactive table.\"\n",
              "              style=\"display:none;\">\n",
              "        \n",
              "  <svg xmlns=\"http://www.w3.org/2000/svg\" height=\"24px\"viewBox=\"0 0 24 24\"\n",
              "       width=\"24px\">\n",
              "    <path d=\"M0 0h24v24H0V0z\" fill=\"none\"/>\n",
              "    <path d=\"M18.56 5.44l.94 2.06.94-2.06 2.06-.94-2.06-.94-.94-2.06-.94 2.06-2.06.94zm-11 1L8.5 8.5l.94-2.06 2.06-.94-2.06-.94L8.5 2.5l-.94 2.06-2.06.94zm10 10l.94 2.06.94-2.06 2.06-.94-2.06-.94-.94-2.06-.94 2.06-2.06.94z\"/><path d=\"M17.41 7.96l-1.37-1.37c-.4-.4-.92-.59-1.43-.59-.52 0-1.04.2-1.43.59L10.3 9.45l-7.72 7.72c-.78.78-.78 2.05 0 2.83L4 21.41c.39.39.9.59 1.41.59.51 0 1.02-.2 1.41-.59l7.78-7.78 2.81-2.81c.8-.78.8-2.07 0-2.86zM5.41 20L4 18.59l7.72-7.72 1.47 1.35L5.41 20z\"/>\n",
              "  </svg>\n",
              "      </button>\n",
              "      \n",
              "  <style>\n",
              "    .colab-df-container {\n",
              "      display:flex;\n",
              "      flex-wrap:wrap;\n",
              "      gap: 12px;\n",
              "    }\n",
              "\n",
              "    .colab-df-convert {\n",
              "      background-color: #E8F0FE;\n",
              "      border: none;\n",
              "      border-radius: 50%;\n",
              "      cursor: pointer;\n",
              "      display: none;\n",
              "      fill: #1967D2;\n",
              "      height: 32px;\n",
              "      padding: 0 0 0 0;\n",
              "      width: 32px;\n",
              "    }\n",
              "\n",
              "    .colab-df-convert:hover {\n",
              "      background-color: #E2EBFA;\n",
              "      box-shadow: 0px 1px 2px rgba(60, 64, 67, 0.3), 0px 1px 3px 1px rgba(60, 64, 67, 0.15);\n",
              "      fill: #174EA6;\n",
              "    }\n",
              "\n",
              "    [theme=dark] .colab-df-convert {\n",
              "      background-color: #3B4455;\n",
              "      fill: #D2E3FC;\n",
              "    }\n",
              "\n",
              "    [theme=dark] .colab-df-convert:hover {\n",
              "      background-color: #434B5C;\n",
              "      box-shadow: 0px 1px 3px 1px rgba(0, 0, 0, 0.15);\n",
              "      filter: drop-shadow(0px 1px 2px rgba(0, 0, 0, 0.3));\n",
              "      fill: #FFFFFF;\n",
              "    }\n",
              "  </style>\n",
              "\n",
              "      <script>\n",
              "        const buttonEl =\n",
              "          document.querySelector('#df-dd657e45-ef7f-4af9-b2df-ba565a997487 button.colab-df-convert');\n",
              "        buttonEl.style.display =\n",
              "          google.colab.kernel.accessAllowed ? 'block' : 'none';\n",
              "\n",
              "        async function convertToInteractive(key) {\n",
              "          const element = document.querySelector('#df-dd657e45-ef7f-4af9-b2df-ba565a997487');\n",
              "          const dataTable =\n",
              "            await google.colab.kernel.invokeFunction('convertToInteractive',\n",
              "                                                     [key], {});\n",
              "          if (!dataTable) return;\n",
              "\n",
              "          const docLinkHtml = 'Like what you see? Visit the ' +\n",
              "            '<a target=\"_blank\" href=https://colab.research.google.com/notebooks/data_table.ipynb>data table notebook</a>'\n",
              "            + ' to learn more about interactive tables.';\n",
              "          element.innerHTML = '';\n",
              "          dataTable['output_type'] = 'display_data';\n",
              "          await google.colab.output.renderOutput(dataTable, element);\n",
              "          const docLink = document.createElement('div');\n",
              "          docLink.innerHTML = docLinkHtml;\n",
              "          element.appendChild(docLink);\n",
              "        }\n",
              "      </script>\n",
              "    </div>\n",
              "  </div>\n",
              "  "
            ]
          },
          "metadata": {},
          "execution_count": 208
        }
      ]
    },
    {
      "cell_type": "code",
      "source": [
        "# Creamos la figura\n",
        "fig = plt.figure()\n",
        "# Creamos el plano 3D\n",
        "ax1 = fig.add_subplot(111, projection='3d')\n",
        "\n",
        "# Definimos los datos de prueba\n",
        "x = df['prev']\n",
        "y = df['horas']\n",
        "z = df['calif']\n",
        "\n",
        "# Agregamos los puntos en el plano 3D\n",
        "ax1.scatter(x, y, z, c='m', marker='o')\n",
        "\n",
        "# Mostramos el gráfico\n",
        "plt.xlabel('Cal. prev')\n",
        "plt.ylabel('Horas de estudio')\n",
        "plt.show()"
      ],
      "metadata": {
        "colab": {
          "base_uri": "https://localhost:8080/",
          "height": 248
        },
        "id": "oxviAFrHYZuJ",
        "outputId": "862cfe18-ce81-49be-854b-099e9ffa4231"
      },
      "execution_count": 209,
      "outputs": [
        {
          "output_type": "display_data",
          "data": {
            "text/plain": [
              "<Figure size 432x288 with 1 Axes>"
            ],
            "image/png": "[encoded data removed]"
          },
          "metadata": {
            "needs_background": "light"
          }
        }
      ]
    },
    {
      "cell_type": "markdown",
      "source": [
        "Vemos como todo el conjunto de datos si tiene un comportamiento <b>lineal</b>.\n",
        "\n",
        "Convertimos en tensores las variables dependientes y la independiente:"
      ],
      "metadata": {
        "id": "NzHrWGhvYoaO"
      }
    },
    {
      "cell_type": "code",
      "source": [
        "#Para la variable dependiente creamos un array que contenga las dos primeras columnas\n",
        "x_trn = np.array(df.iloc[:,:2], dtype=\"float32\")\n",
        "#Para la variable independiente creamos un array que contenga solo la ultima columna\n",
        "y_trn = np.array(df.iloc[:,-1], dtype=\"float32\")[..., np.newaxis]\n",
        "\n",
        "#Los convertimos en tensores de torch\n",
        "x_trn = torch.tensor(x_trn)\n",
        "y_trn = torch.tensor(y_trn)\n",
        "\n",
        "#Observamos sus dimensiones \n",
        "print(\"Dimension del conjunto de entrenamiento de la variable independiente 'x': \"+str(x_trn.shape))\n",
        "print(\"Dimension del conjunto de entrenamiento de la variable dependiente 'y': \"+str(y_trn.shape))"
      ],
      "metadata": {
        "colab": {
          "base_uri": "https://localhost:8080/"
        },
        "id": "r4En-cZFYnDM",
        "outputId": "621db539-fc08-4615-b69d-f9926e4fa113"
      },
      "execution_count": 210,
      "outputs": [
        {
          "output_type": "stream",
          "name": "stdout",
          "text": [
            "Dimension del conjunto de entrenamiento de la variable independiente 'x': torch.Size([50, 2])\n",
            "Dimension del conjunto de entrenamiento de la variable dependiente 'y': torch.Size([50, 1])\n"
          ]
        }
      ]
    },
    {
      "cell_type": "markdown",
      "source": [
        "Creamos el objeto <b>TensorDataset</b>:"
      ],
      "metadata": {
        "id": "8tkuuJmBa3uK"
      }
    },
    {
      "cell_type": "code",
      "source": [
        "ds = TensorDataset(x_trn, y_trn)"
      ],
      "metadata": {
        "id": "BahyQ73jZ3_b"
      },
      "execution_count": 211,
      "outputs": []
    },
    {
      "cell_type": "markdown",
      "source": [
        "Creamos el objeto <b>dataLoader</b> que nos ayudara a recorrer el dataset por mini batches"
      ],
      "metadata": {
        "id": "6aEMR-owbMvp"
      }
    },
    {
      "cell_type": "code",
      "source": [
        "#Creamos una funcion que automaticamente cree el dataLoader del dataset \"ds\"\n",
        "def build_dl(batch_size=16, shuffle=True):\n",
        "    return DataLoader(ds, batch_size=batch_size, shuffle=True)\n",
        "\n",
        "#Creamos el dataLoader (ds)\n",
        "dl = build_dl()\n",
        "\n",
        "#Vemos que forma tienen los objetos provenientes del dL\n",
        "x, y = next(iter(dl))\n",
        "print(f'x shape={x.shape} dtype={x.dtype}')\n",
        "print(f'y shape={y.shape} dtype={y.dtype}')"
      ],
      "metadata": {
        "colab": {
          "base_uri": "https://localhost:8080/"
        },
        "id": "AeSF0gLha_pm",
        "outputId": "5ad0d34e-73d0-41e0-a4b9-ed2ce5c11eca"
      },
      "execution_count": 212,
      "outputs": [
        {
          "output_type": "stream",
          "name": "stdout",
          "text": [
            "x shape=torch.Size([16, 2]) dtype=torch.float32\n",
            "y shape=torch.Size([16, 1]) dtype=torch.float32\n"
          ]
        }
      ]
    },
    {
      "cell_type": "markdown",
      "source": [
        "## Entrenamiento en alto nivel\n",
        "\n",
        "Creamos la funcion de <b>entrenamiento</b>, utilizando el codigo visto en clase:"
      ],
      "metadata": {
        "id": "uo_B7t8Tdk4Y"
      }
    },
    {
      "cell_type": "code",
      "source": [
        "def getR2(y,y_pred):\n",
        "  \n",
        "  df_rdc['SSR']=(y_pred-np.mean(y))**2\n",
        "  df_rdc['SST']=(y-np.mean(y))**2\n",
        "\n",
        "  SSR = sum(df_rdc['SSR'])\n",
        "  SST = sum(df_rdc['SST'])\n",
        "\n",
        "  R2 = SSR/SST\n",
        "  return R2"
      ],
      "metadata": {
        "id": "XbPmbc8em35m"
      },
      "execution_count": 213,
      "outputs": []
    },
    {
      "cell_type": "code",
      "source": [
        "def train(model, dl, lr, epochs=10):\n",
        "\n",
        "    opt = optim.SGD(model.parameters(), lr=lr)\n",
        "    #lr=0.0015\n",
        "    # historial de pérdida\n",
        "    loss_hist = []\n",
        "\n",
        "    # ciclo de entrenamiento\n",
        "    for epoch in range(epochs):\n",
        "\n",
        "        # historial\n",
        "        loss_hist = []\n",
        "        \n",
        "        # entrenamiento de una época\n",
        "        for x, y_true in dl:\n",
        "            # hacemos inferencia para obtener los logits\n",
        "            y_lgts = model(x)\n",
        "            # calculamos de pérdida\n",
        "            loss = F.mse_loss(y_lgts, y_true)\n",
        "            # vaciamos los gradientes\n",
        "            opt.zero_grad()\n",
        "            # retropropagamos\n",
        "            loss.backward()\n",
        "            # actulizamos parámetros\n",
        "            opt.step()\n",
        "\n",
        "            # guardamos historial de pérdida\n",
        "            loss_hist.append(loss.item() * 100)\n",
        "        # imprimimos la pérdida de la época\n",
        "        loss = np.mean(loss_hist)\n",
        "\n",
        "        #Imprimimos solo la ultima cantidad de perdida para no llenar de informacion\n",
        "        if epoch == (epochs - 1):\n",
        "          print(f'E{epoch:02} loss=[{loss:6.2f}]')\n",
        "\n",
        "\n",
        "        \n",
        "def train_model(build_model, lr, epochs=900):\n",
        "    set_seed()\n",
        "    dl = build_dl()\n",
        "    model = build_model\n",
        "    train(model, dl, lr, epochs)"
      ],
      "metadata": {
        "id": "JA4G051tc2q2"
      },
      "execution_count": 214,
      "outputs": []
    },
    {
      "cell_type": "markdown",
      "source": [
        "Creamos otro modelo donde haya <b>una capa oculta</b>:"
      ],
      "metadata": {
        "id": "z_ndNddoq-qe"
      }
    },
    {
      "cell_type": "code",
      "source": [
        "def build_high_one(n_capa_uno):\n",
        "    model = nn.Sequential(\n",
        "        nn.Linear(2, n_capa_uno),\n",
        "        nn.ReLU(),\n",
        "        nn.Linear(n_capa_uno, 1),\n",
        "        nn.ReLU()\n",
        "\n",
        "    )\n",
        "    return model"
      ],
      "metadata": {
        "id": "FXPJ_zwfeWqe"
      },
      "execution_count": 215,
      "outputs": []
    },
    {
      "cell_type": "markdown",
      "source": [
        "Creamos otro modelo donde haya <b>dos capas ocultas</b>:"
      ],
      "metadata": {
        "id": "v8b-C5dmo-mz"
      }
    },
    {
      "cell_type": "code",
      "source": [
        "def build_high_two(n_capa_uno,n_capa_dos):\n",
        "    model = nn.Sequential(\n",
        "        nn.Linear(2, n_capa_uno),\n",
        "        nn.ReLU(),\n",
        "        nn.Linear(n_capa_uno, n_capa_dos),\n",
        "        nn.ReLU(),\n",
        "        nn.Linear(n_capa_dos, 1),\n",
        "        nn.ReLU()\n",
        "\n",
        "    )\n",
        "    return model"
      ],
      "metadata": {
        "id": "JHSJAS-6pFXh"
      },
      "execution_count": 216,
      "outputs": []
    },
    {
      "cell_type": "markdown",
      "source": [
        "### Creamos el modelo que tiene solo una capa oculta:"
      ],
      "metadata": {
        "id": "MeCApdVmsR5P"
      }
    },
    {
      "cell_type": "code",
      "source": [
        "learning_rate = [0.001, 0.005, 0.01]\n",
        "numero_capas = [11,10,6,4]\n",
        "for i in numero_capas:\n",
        "  high_one = build_high_one(i)\n",
        "  for j in learning_rate:\n",
        "    print(\"Para un numero de neuronas de. {0} en la primera capa y un lr de {1} se tiene una perdida de:\".format(i,j))\n",
        "    train_model(high_one, j)\n",
        "  print(\"=====================================================\")"
      ],
      "metadata": {
        "colab": {
          "base_uri": "https://localhost:8080/"
        },
        "id": "9Mjq4igzxxDy",
        "outputId": "5476913c-c5b5-45a2-f16a-5b3b696da751"
      },
      "execution_count": 217,
      "outputs": [
        {
          "output_type": "stream",
          "name": "stdout",
          "text": [
            "Para un numero de neuronas de. 11 en la primera capa y un lr de 0.001 se tiene una perdida de:\n",
            "E899 loss=[ 26.96]\n",
            "Para un numero de neuronas de. 11 en la primera capa y un lr de 0.005 se tiene una perdida de:\n",
            "E899 loss=[ 46.84]\n",
            "Para un numero de neuronas de. 11 en la primera capa y un lr de 0.01 se tiene una perdida de:\n",
            "E899 loss=[107.67]\n",
            "=====================================================\n",
            "Para un numero de neuronas de. 10 en la primera capa y un lr de 0.001 se tiene una perdida de:\n",
            "E899 loss=[5601.83]\n",
            "Para un numero de neuronas de. 10 en la primera capa y un lr de 0.005 se tiene una perdida de:\n",
            "E899 loss=[5601.83]\n",
            "Para un numero de neuronas de. 10 en la primera capa y un lr de 0.01 se tiene una perdida de:\n",
            "E899 loss=[5601.83]\n",
            "=====================================================\n",
            "Para un numero de neuronas de. 6 en la primera capa y un lr de 0.001 se tiene una perdida de:\n",
            "E899 loss=[ 25.64]\n",
            "Para un numero de neuronas de. 6 en la primera capa y un lr de 0.005 se tiene una perdida de:\n",
            "E899 loss=[ 46.45]\n",
            "Para un numero de neuronas de. 6 en la primera capa y un lr de 0.01 se tiene una perdida de:\n",
            "E899 loss=[107.67]\n",
            "=====================================================\n",
            "Para un numero de neuronas de. 4 en la primera capa y un lr de 0.001 se tiene una perdida de:\n",
            "E899 loss=[5601.83]\n",
            "Para un numero de neuronas de. 4 en la primera capa y un lr de 0.005 se tiene una perdida de:\n",
            "E899 loss=[5601.83]\n",
            "Para un numero de neuronas de. 4 en la primera capa y un lr de 0.01 se tiene una perdida de:\n",
            "E899 loss=[5601.83]\n",
            "=====================================================\n"
          ]
        }
      ]
    },
    {
      "cell_type": "markdown",
      "source": [
        "Vemos que la mejor opcion es crear una primera capa de **6 neuronas** y un **lr = 0.001**:"
      ],
      "metadata": {
        "id": "8ka3XOWY6ZZQ"
      }
    },
    {
      "cell_type": "code",
      "source": [
        "high_one = build_high_one(6)\n",
        "train_model(high_one, 0.0001)"
      ],
      "metadata": {
        "colab": {
          "base_uri": "https://localhost:8080/"
        },
        "id": "OXzS7vct3X8h",
        "outputId": "9f0cd450-7405-4528-96d7-543df9e74a74"
      },
      "execution_count": 219,
      "outputs": [
        {
          "output_type": "stream",
          "name": "stdout",
          "text": [
            "E899 loss=[ 24.02]\n"
          ]
        }
      ]
    },
    {
      "cell_type": "markdown",
      "source": [
        "Obtenemos los parametros **(w1,w2,b1,b2)**"
      ],
      "metadata": {
        "id": "KKKxOshd66Jp"
      }
    },
    {
      "cell_type": "code",
      "source": [
        "lista_parametros = list(high_one.named_parameters())"
      ],
      "metadata": {
        "id": "Gt9tuI1x5nGV"
      },
      "execution_count": 220,
      "outputs": []
    },
    {
      "cell_type": "markdown",
      "source": [
        "Creamos nuestra red con los parametros optimizados:"
      ],
      "metadata": {
        "id": "Kv47vzN27JIN"
      }
    },
    {
      "cell_type": "code",
      "source": [
        "def redNeuronalUno(x,w1,w2,b1,b2):\n",
        "  \n",
        "  X = x[:,np.newaxis]\n",
        "  z = np.dot(w1,X) + b1.T\n",
        "  a1 = np.maximum(0,z)\n",
        "  z2 = np.dot(w2,z) + b2\n",
        "  pred = np.maximum(0,z2)\n",
        "\n",
        "  return pred.item()"
      ],
      "metadata": {
        "id": "b7MNv4G16wYx"
      },
      "execution_count": 223,
      "outputs": []
    },
    {
      "cell_type": "code",
      "source": [
        "#Asignamos los valores optimos a nuestros parametros\n",
        "w1_1 = lista_parametros[0][1].detach().numpy()\n",
        "b1_1 = np.array([lista_parametros[1][1].detach().numpy()])\n",
        "w2_1 = lista_parametros[2][1].detach().numpy()\n",
        "b2_1 = lista_parametros[3][1].detach().numpy().item()\n",
        "\n",
        "y_prediccion_dos = []\n",
        "for i in range(x_trn.shape[0]):\n",
        "  y_prediccion_dos.append(redNeuronalUno(x_trn[i],w1_1,w2_1,b1_1,b2_1))"
      ],
      "metadata": {
        "id": "PFGXCunw7i5n"
      },
      "execution_count": 224,
      "outputs": []
    },
    {
      "cell_type": "code",
      "source": [
        "#Llamamos df_ruc de \"red de una capa\"\n",
        "df_rdc = df.copy()\n",
        "df_rdc['Prediccion'] = y_prediccion_dos\n",
        "df_rdc.head(3)"
      ],
      "metadata": {
        "colab": {
          "base_uri": "https://localhost:8080/",
          "height": 142
        },
        "id": "738xka2W8VLn",
        "outputId": "b640295b-3fb2-4d67-ff5d-9f4ad4cebf6f"
      },
      "execution_count": 225,
      "outputs": [
        {
          "output_type": "execute_result",
          "data": {
            "text/plain": [
              "   prev  horas  calif  Prediccion\n",
              "0   5.6    8.2    5.1    5.026355\n",
              "1   6.7    9.3    5.9    5.719257\n",
              "2   5.1   10.0    5.4    6.093335"
            ],
            "text/html": [
              "\n",
              "  <div id=\"df-9267f3de-9d48-4e20-ae29-0bb02d893713\">\n",
              "    <div class=\"colab-df-container\">\n",
              "      <div>\n",
              "<style scoped>\n",
              "    .dataframe tbody tr th:only-of-type {\n",
              "        vertical-align: middle;\n",
              "    }\n",
              "\n",
              "    .dataframe tbody tr th {\n",
              "        vertical-align: top;\n",
              "    }\n",
              "\n",
              "    .dataframe thead th {\n",
              "        text-align: right;\n",
              "    }\n",
              "</style>\n",
              "<table border=\"1\" class=\"dataframe\">\n",
              "  <thead>\n",
              "    <tr style=\"text-align: right;\">\n",
              "      <th></th>\n",
              "      <th>prev</th>\n",
              "      <th>horas</th>\n",
              "      <th>calif</th>\n",
              "      <th>Prediccion</th>\n",
              "    </tr>\n",
              "  </thead>\n",
              "  <tbody>\n",
              "    <tr>\n",
              "      <th>0</th>\n",
              "      <td>5.6</td>\n",
              "      <td>8.2</td>\n",
              "      <td>5.1</td>\n",
              "      <td>5.026355</td>\n",
              "    </tr>\n",
              "    <tr>\n",
              "      <th>1</th>\n",
              "      <td>6.7</td>\n",
              "      <td>9.3</td>\n",
              "      <td>5.9</td>\n",
              "      <td>5.719257</td>\n",
              "    </tr>\n",
              "    <tr>\n",
              "      <th>2</th>\n",
              "      <td>5.1</td>\n",
              "      <td>10.0</td>\n",
              "      <td>5.4</td>\n",
              "      <td>6.093335</td>\n",
              "    </tr>\n",
              "  </tbody>\n",
              "</table>\n",
              "</div>\n",
              "      <button class=\"colab-df-convert\" onclick=\"convertToInteractive('df-9267f3de-9d48-4e20-ae29-0bb02d893713')\"\n",
              "              title=\"Convert this dataframe to an interactive table.\"\n",
              "              style=\"display:none;\">\n",
              "        \n",
              "  <svg xmlns=\"http://www.w3.org/2000/svg\" height=\"24px\"viewBox=\"0 0 24 24\"\n",
              "       width=\"24px\">\n",
              "    <path d=\"M0 0h24v24H0V0z\" fill=\"none\"/>\n",
              "    <path d=\"M18.56 5.44l.94 2.06.94-2.06 2.06-.94-2.06-.94-.94-2.06-.94 2.06-2.06.94zm-11 1L8.5 8.5l.94-2.06 2.06-.94-2.06-.94L8.5 2.5l-.94 2.06-2.06.94zm10 10l.94 2.06.94-2.06 2.06-.94-2.06-.94-.94-2.06-.94 2.06-2.06.94z\"/><path d=\"M17.41 7.96l-1.37-1.37c-.4-.4-.92-.59-1.43-.59-.52 0-1.04.2-1.43.59L10.3 9.45l-7.72 7.72c-.78.78-.78 2.05 0 2.83L4 21.41c.39.39.9.59 1.41.59.51 0 1.02-.2 1.41-.59l7.78-7.78 2.81-2.81c.8-.78.8-2.07 0-2.86zM5.41 20L4 18.59l7.72-7.72 1.47 1.35L5.41 20z\"/>\n",
              "  </svg>\n",
              "      </button>\n",
              "      \n",
              "  <style>\n",
              "    .colab-df-container {\n",
              "      display:flex;\n",
              "      flex-wrap:wrap;\n",
              "      gap: 12px;\n",
              "    }\n",
              "\n",
              "    .colab-df-convert {\n",
              "      background-color: #E8F0FE;\n",
              "      border: none;\n",
              "      border-radius: 50%;\n",
              "      cursor: pointer;\n",
              "      display: none;\n",
              "      fill: #1967D2;\n",
              "      height: 32px;\n",
              "      padding: 0 0 0 0;\n",
              "      width: 32px;\n",
              "    }\n",
              "\n",
              "    .colab-df-convert:hover {\n",
              "      background-color: #E2EBFA;\n",
              "      box-shadow: 0px 1px 2px rgba(60, 64, 67, 0.3), 0px 1px 3px 1px rgba(60, 64, 67, 0.15);\n",
              "      fill: #174EA6;\n",
              "    }\n",
              "\n",
              "    [theme=dark] .colab-df-convert {\n",
              "      background-color: #3B4455;\n",
              "      fill: #D2E3FC;\n",
              "    }\n",
              "\n",
              "    [theme=dark] .colab-df-convert:hover {\n",
              "      background-color: #434B5C;\n",
              "      box-shadow: 0px 1px 3px 1px rgba(0, 0, 0, 0.15);\n",
              "      filter: drop-shadow(0px 1px 2px rgba(0, 0, 0, 0.3));\n",
              "      fill: #FFFFFF;\n",
              "    }\n",
              "  </style>\n",
              "\n",
              "      <script>\n",
              "        const buttonEl =\n",
              "          document.querySelector('#df-9267f3de-9d48-4e20-ae29-0bb02d893713 button.colab-df-convert');\n",
              "        buttonEl.style.display =\n",
              "          google.colab.kernel.accessAllowed ? 'block' : 'none';\n",
              "\n",
              "        async function convertToInteractive(key) {\n",
              "          const element = document.querySelector('#df-9267f3de-9d48-4e20-ae29-0bb02d893713');\n",
              "          const dataTable =\n",
              "            await google.colab.kernel.invokeFunction('convertToInteractive',\n",
              "                                                     [key], {});\n",
              "          if (!dataTable) return;\n",
              "\n",
              "          const docLinkHtml = 'Like what you see? Visit the ' +\n",
              "            '<a target=\"_blank\" href=https://colab.research.google.com/notebooks/data_table.ipynb>data table notebook</a>'\n",
              "            + ' to learn more about interactive tables.';\n",
              "          element.innerHTML = '';\n",
              "          dataTable['output_type'] = 'display_data';\n",
              "          await google.colab.output.renderOutput(dataTable, element);\n",
              "          const docLink = document.createElement('div');\n",
              "          docLink.innerHTML = docLinkHtml;\n",
              "          element.appendChild(docLink);\n",
              "        }\n",
              "      </script>\n",
              "    </div>\n",
              "  </div>\n",
              "  "
            ]
          },
          "metadata": {},
          "execution_count": 225
        }
      ]
    },
    {
      "cell_type": "code",
      "source": [
        "getR2(df_rdc['calif'],df_rdc['Prediccion'])"
      ],
      "metadata": {
        "colab": {
          "base_uri": "https://localhost:8080/"
        },
        "id": "JvTiFll7E27L",
        "outputId": "6f43eacb-952b-4cf0-a641-26b41547b4af"
      },
      "execution_count": 226,
      "outputs": [
        {
          "output_type": "execute_result",
          "data": {
            "text/plain": [
              "0.744174484882838"
            ]
          },
          "metadata": {},
          "execution_count": 226
        }
      ]
    },
    {
      "cell_type": "markdown",
      "source": [
        "#Creando el modelo que tiene dos capas ocultas"
      ],
      "metadata": {
        "id": "Ly3kccwfqvAa"
      }
    },
    {
      "cell_type": "code",
      "source": [
        "numero_capas = [11,10,6,4]\n",
        "numero_capas_dos = [6, 4, 2]\n",
        "for i in numero_capas:\n",
        "  #high_two = build_high_two(i)\n",
        "  for j in numero_capas_dos:\n",
        "    high_two = build_high_two(i,j)\n",
        "    print(\"Para un numero de neuronas de. {0} en la primera capa y {1} en la segunda capa, se tiene una perdida de:\".format(i,j))\n",
        "    train_model(high_two, 0.001)\n",
        "  print(\"=====================================================\")"
      ],
      "metadata": {
        "colab": {
          "base_uri": "https://localhost:8080/"
        },
        "id": "bgENytlNq7FK",
        "outputId": "679ddb2f-3be5-4296-d355-cc049759e8ef"
      },
      "execution_count": 227,
      "outputs": [
        {
          "output_type": "stream",
          "name": "stdout",
          "text": [
            "Para un numero de neuronas de. 11 en la primera capa y 6 en la segunda capa, se tiene una perdida de:\n",
            "E899 loss=[ 26.73]\n",
            "Para un numero de neuronas de. 11 en la primera capa y 4 en la segunda capa, se tiene una perdida de:\n",
            "E899 loss=[5601.83]\n",
            "Para un numero de neuronas de. 11 en la primera capa y 2 en la segunda capa, se tiene una perdida de:\n",
            "E899 loss=[ 28.29]\n",
            "=====================================================\n",
            "Para un numero de neuronas de. 10 en la primera capa y 6 en la segunda capa, se tiene una perdida de:\n",
            "E899 loss=[5601.83]\n",
            "Para un numero de neuronas de. 10 en la primera capa y 4 en la segunda capa, se tiene una perdida de:\n",
            "E899 loss=[ 27.07]\n",
            "Para un numero de neuronas de. 10 en la primera capa y 2 en la segunda capa, se tiene una perdida de:\n",
            "E899 loss=[5601.83]\n",
            "=====================================================\n",
            "Para un numero de neuronas de. 6 en la primera capa y 6 en la segunda capa, se tiene una perdida de:\n",
            "E899 loss=[5601.83]\n",
            "Para un numero de neuronas de. 6 en la primera capa y 4 en la segunda capa, se tiene una perdida de:\n",
            "E899 loss=[ 25.98]\n",
            "Para un numero de neuronas de. 6 en la primera capa y 2 en la segunda capa, se tiene una perdida de:\n",
            "E899 loss=[ 25.93]\n",
            "=====================================================\n",
            "Para un numero de neuronas de. 4 en la primera capa y 6 en la segunda capa, se tiene una perdida de:\n",
            "E899 loss=[ 25.80]\n",
            "Para un numero de neuronas de. 4 en la primera capa y 4 en la segunda capa, se tiene una perdida de:\n",
            "E899 loss=[5601.83]\n",
            "Para un numero de neuronas de. 4 en la primera capa y 2 en la segunda capa, se tiene una perdida de:\n",
            "E899 loss=[5601.83]\n",
            "=====================================================\n"
          ]
        }
      ]
    },
    {
      "cell_type": "code",
      "source": [
        "high_two = build_high_two(6,2)\n",
        "train_model(high_two, 0.0001)"
      ],
      "metadata": {
        "colab": {
          "base_uri": "https://localhost:8080/"
        },
        "id": "TIxpOSt1sQMA",
        "outputId": "e5c3e4bb-bee9-435f-e223-df356e8d9d23"
      },
      "execution_count": 228,
      "outputs": [
        {
          "output_type": "stream",
          "name": "stdout",
          "text": [
            "E899 loss=[ 23.49]\n"
          ]
        }
      ]
    },
    {
      "cell_type": "markdown",
      "source": [],
      "metadata": {
        "id": "S2Yy_0Q7tXMA"
      }
    },
    {
      "cell_type": "code",
      "source": [
        "lista_parametros_dos = list(high_two.named_parameters())"
      ],
      "metadata": {
        "id": "bMozD3ijtXuI"
      },
      "execution_count": 229,
      "outputs": []
    },
    {
      "cell_type": "code",
      "source": [
        "def redNeuronalDos(x,w1,w2,w3,b1,b2,b3):\n",
        "  \n",
        "  X = x[:,np.newaxis]\n",
        "  z1 = np.dot(w1,X) + b1.T\n",
        "  a1 = np.maximum(0,z1)\n",
        "  z2 = np.dot(w2,a1) + b2.T\n",
        "  a2 = np.maximum(0,z2)\n",
        "  z3 = np.dot(w3,a2) + b3\n",
        "  pred = np.maximum(0,z3)\n",
        "  return pred.item()"
      ],
      "metadata": {
        "id": "0g_gf0wjteUi"
      },
      "execution_count": 230,
      "outputs": []
    },
    {
      "cell_type": "code",
      "source": [
        "w1_2 = lista_parametros_dos[0][1].detach().numpy()\n",
        "b1_2 = np.array([lista_parametros_dos[1][1].detach().numpy()])\n",
        "w2_2 = lista_parametros_dos[2][1].detach().numpy()\n",
        "b2_2 = np.array([lista_parametros_dos[3][1].detach().numpy()])\n",
        "w3_2 = lista_parametros_dos[4][1].detach().numpy()\n",
        "b3_2 = lista_parametros_dos[5][1].detach().numpy().item()\n",
        "\n",
        "y_prediccion_dos = []\n",
        "for i in range(x_trn.shape[0]):\n",
        "  y_prediccion_dos.append(redNeuronalDos(x_trn[i],w1_2,w2_2,w3_2,b1_2,b2_2,b3_2))"
      ],
      "metadata": {
        "id": "wbjOjfShuCWR"
      },
      "execution_count": 231,
      "outputs": []
    },
    {
      "cell_type": "code",
      "source": [
        "df_rdc = df.copy()\n",
        "df_rdc['Prediccion'] = y_prediccion_dos\n",
        "df_rdc.head(3)"
      ],
      "metadata": {
        "colab": {
          "base_uri": "https://localhost:8080/",
          "height": 142
        },
        "id": "ThMi4gZUuCiX",
        "outputId": "e7b32f49-bb21-4e79-f994-7e0d7def8171"
      },
      "execution_count": 232,
      "outputs": [
        {
          "output_type": "execute_result",
          "data": {
            "text/plain": [
              "   prev  horas  calif  Prediccion\n",
              "0   5.6    8.2    5.1    5.099682\n",
              "1   6.7    9.3    5.9    5.858493\n",
              "2   5.1   10.0    5.4    5.949234"
            ],
            "text/html": [
              "\n",
              "  <div id=\"df-f25d6f0f-6ace-4a7c-89a5-be93c0843e10\">\n",
              "    <div class=\"colab-df-container\">\n",
              "      <div>\n",
              "<style scoped>\n",
              "    .dataframe tbody tr th:only-of-type {\n",
              "        vertical-align: middle;\n",
              "    }\n",
              "\n",
              "    .dataframe tbody tr th {\n",
              "        vertical-align: top;\n",
              "    }\n",
              "\n",
              "    .dataframe thead th {\n",
              "        text-align: right;\n",
              "    }\n",
              "</style>\n",
              "<table border=\"1\" class=\"dataframe\">\n",
              "  <thead>\n",
              "    <tr style=\"text-align: right;\">\n",
              "      <th></th>\n",
              "      <th>prev</th>\n",
              "      <th>horas</th>\n",
              "      <th>calif</th>\n",
              "      <th>Prediccion</th>\n",
              "    </tr>\n",
              "  </thead>\n",
              "  <tbody>\n",
              "    <tr>\n",
              "      <th>0</th>\n",
              "      <td>5.6</td>\n",
              "      <td>8.2</td>\n",
              "      <td>5.1</td>\n",
              "      <td>5.099682</td>\n",
              "    </tr>\n",
              "    <tr>\n",
              "      <th>1</th>\n",
              "      <td>6.7</td>\n",
              "      <td>9.3</td>\n",
              "      <td>5.9</td>\n",
              "      <td>5.858493</td>\n",
              "    </tr>\n",
              "    <tr>\n",
              "      <th>2</th>\n",
              "      <td>5.1</td>\n",
              "      <td>10.0</td>\n",
              "      <td>5.4</td>\n",
              "      <td>5.949234</td>\n",
              "    </tr>\n",
              "  </tbody>\n",
              "</table>\n",
              "</div>\n",
              "      <button class=\"colab-df-convert\" onclick=\"convertToInteractive('df-f25d6f0f-6ace-4a7c-89a5-be93c0843e10')\"\n",
              "              title=\"Convert this dataframe to an interactive table.\"\n",
              "              style=\"display:none;\">\n",
              "        \n",
              "  <svg xmlns=\"http://www.w3.org/2000/svg\" height=\"24px\"viewBox=\"0 0 24 24\"\n",
              "       width=\"24px\">\n",
              "    <path d=\"M0 0h24v24H0V0z\" fill=\"none\"/>\n",
              "    <path d=\"M18.56 5.44l.94 2.06.94-2.06 2.06-.94-2.06-.94-.94-2.06-.94 2.06-2.06.94zm-11 1L8.5 8.5l.94-2.06 2.06-.94-2.06-.94L8.5 2.5l-.94 2.06-2.06.94zm10 10l.94 2.06.94-2.06 2.06-.94-2.06-.94-.94-2.06-.94 2.06-2.06.94z\"/><path d=\"M17.41 7.96l-1.37-1.37c-.4-.4-.92-.59-1.43-.59-.52 0-1.04.2-1.43.59L10.3 9.45l-7.72 7.72c-.78.78-.78 2.05 0 2.83L4 21.41c.39.39.9.59 1.41.59.51 0 1.02-.2 1.41-.59l7.78-7.78 2.81-2.81c.8-.78.8-2.07 0-2.86zM5.41 20L4 18.59l7.72-7.72 1.47 1.35L5.41 20z\"/>\n",
              "  </svg>\n",
              "      </button>\n",
              "      \n",
              "  <style>\n",
              "    .colab-df-container {\n",
              "      display:flex;\n",
              "      flex-wrap:wrap;\n",
              "      gap: 12px;\n",
              "    }\n",
              "\n",
              "    .colab-df-convert {\n",
              "      background-color: #E8F0FE;\n",
              "      border: none;\n",
              "      border-radius: 50%;\n",
              "      cursor: pointer;\n",
              "      display: none;\n",
              "      fill: #1967D2;\n",
              "      height: 32px;\n",
              "      padding: 0 0 0 0;\n",
              "      width: 32px;\n",
              "    }\n",
              "\n",
              "    .colab-df-convert:hover {\n",
              "      background-color: #E2EBFA;\n",
              "      box-shadow: 0px 1px 2px rgba(60, 64, 67, 0.3), 0px 1px 3px 1px rgba(60, 64, 67, 0.15);\n",
              "      fill: #174EA6;\n",
              "    }\n",
              "\n",
              "    [theme=dark] .colab-df-convert {\n",
              "      background-color: #3B4455;\n",
              "      fill: #D2E3FC;\n",
              "    }\n",
              "\n",
              "    [theme=dark] .colab-df-convert:hover {\n",
              "      background-color: #434B5C;\n",
              "      box-shadow: 0px 1px 3px 1px rgba(0, 0, 0, 0.15);\n",
              "      filter: drop-shadow(0px 1px 2px rgba(0, 0, 0, 0.3));\n",
              "      fill: #FFFFFF;\n",
              "    }\n",
              "  </style>\n",
              "\n",
              "      <script>\n",
              "        const buttonEl =\n",
              "          document.querySelector('#df-f25d6f0f-6ace-4a7c-89a5-be93c0843e10 button.colab-df-convert');\n",
              "        buttonEl.style.display =\n",
              "          google.colab.kernel.accessAllowed ? 'block' : 'none';\n",
              "\n",
              "        async function convertToInteractive(key) {\n",
              "          const element = document.querySelector('#df-f25d6f0f-6ace-4a7c-89a5-be93c0843e10');\n",
              "          const dataTable =\n",
              "            await google.colab.kernel.invokeFunction('convertToInteractive',\n",
              "                                                     [key], {});\n",
              "          if (!dataTable) return;\n",
              "\n",
              "          const docLinkHtml = 'Like what you see? Visit the ' +\n",
              "            '<a target=\"_blank\" href=https://colab.research.google.com/notebooks/data_table.ipynb>data table notebook</a>'\n",
              "            + ' to learn more about interactive tables.';\n",
              "          element.innerHTML = '';\n",
              "          dataTable['output_type'] = 'display_data';\n",
              "          await google.colab.output.renderOutput(dataTable, element);\n",
              "          const docLink = document.createElement('div');\n",
              "          docLink.innerHTML = docLinkHtml;\n",
              "          element.appendChild(docLink);\n",
              "        }\n",
              "      </script>\n",
              "    </div>\n",
              "  </div>\n",
              "  "
            ]
          },
          "metadata": {},
          "execution_count": 232
        }
      ]
    },
    {
      "cell_type": "code",
      "source": [
        "getR2(df_rdc['calif'],df_rdc['Prediccion'])"
      ],
      "metadata": {
        "colab": {
          "base_uri": "https://localhost:8080/"
        },
        "id": "MGbA0YvLuJwM",
        "outputId": "2a673859-9d6b-4f1b-cde4-99d25f7eb7d5"
      },
      "execution_count": 233,
      "outputs": [
        {
          "output_type": "execute_result",
          "data": {
            "text/plain": [
              "0.7421194837146154"
            ]
          },
          "metadata": {},
          "execution_count": 233
        }
      ]
    },
    {
      "cell_type": "markdown",
      "source": [
        "## Prediccion para un alumno que estudió durante 12 horas para el examen y en un examen previo obtuvo 3 de calificación.\n",
        "\n",
        "### Para nuestra red con una sola capa se tiene:"
      ],
      "metadata": {
        "id": "iDeT7gwdL5IN"
      }
    },
    {
      "cell_type": "code",
      "source": [
        "redNeuronalUno(np.array([3,12]),w1_1,w2_1,b1_1,b2_1)"
      ],
      "metadata": {
        "id": "h-S6tM0EE909",
        "colab": {
          "base_uri": "https://localhost:8080/"
        },
        "outputId": "89c8a51f-9959-427a-8142-ac6e456b9b5f"
      },
      "execution_count": 234,
      "outputs": [
        {
          "output_type": "execute_result",
          "data": {
            "text/plain": [
              "7.233971218601225"
            ]
          },
          "metadata": {},
          "execution_count": 234
        }
      ]
    },
    {
      "cell_type": "markdown",
      "source": [
        "### Para nuestra red con dos capas se tiene:"
      ],
      "metadata": {
        "id": "SuVd_bgjMmyY"
      }
    },
    {
      "cell_type": "code",
      "source": [
        "redNeuronalDos(np.array([3,12]),w1_2,w2_2,w3_2,b1_2,b2_2,b3_2)"
      ],
      "metadata": {
        "colab": {
          "base_uri": "https://localhost:8080/"
        },
        "id": "8y95hJMgJseL",
        "outputId": "b7834754-bbe7-4d48-c7d3-1f8c3e01b6ae"
      },
      "execution_count": 235,
      "outputs": [
        {
          "output_type": "execute_result",
          "data": {
            "text/plain": [
              "6.629859603316729"
            ]
          },
          "metadata": {},
          "execution_count": 235
        }
      ]
    },
    {
      "cell_type": "markdown",
      "source": [
        "# Resultados de construccion de red neuronal de alto nivel\n",
        "\n",
        "### Con una red de una sola capa oculta\n",
        "\n",
        "Se creo una red con una sola capa oculta. Esa capa oculta cuenta con 6 neuronas. Se escogio un **learning rate** de **0.001** ya que minimizaba la perdida a un **25.64%**. Tambien se calculo que el **R2** fue de **0.73**.\n",
        "\n",
        "Respecto a la prediccion de un estudiante que estudió durante 12 horas para el examen y en un examen previo obtuvo 3 de calificación, se obtuvo que sacaria una calificacion de **7.23**.\n",
        "\n",
        "### Con red de dos capas ocultas\n",
        "\n",
        "Se creo una red con dos capas ocultas. La segunda capa oculta solo contaba con 2 neuronas, mientras que la primera capa oculta conto con 6 neuronas. Se escogio un **learning rate** de **0.001** ya que minimizaba la perdida a un **23.49%**. Tambien se calculo que el **R2** fue de **0.74**, el cual es mayor que para una arquitectura de una sola capa oculta.\n",
        "\n",
        "Respecto a la prediccion de un estudiante que estudió durante 12 horas para el examen y en un examen previo obtuvo 3 de calificación, se obtuvo que sacaria una calificacion de **6.62**. Vemos que ambas predicciones se mantienen en el rango.\n"
      ],
      "metadata": {
        "id": "5uGUu4FMNLJk"
      }
    }
  ]
}