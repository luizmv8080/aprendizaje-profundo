{
  "nbformat": 4,
  "nbformat_minor": 0,
  "metadata": {
    "colab": {
      "provenance": [],
      "collapsed_sections": [],
      "authorship_tag": "ABX9TyPW9V0nv5FmttM5Q9+hK0NS",
      "include_colab_link": true
    },
    "kernelspec": {
      "name": "python3",
      "display_name": "Python 3"
    },
    "language_info": {
      "name": "python"
    }
  },
  "cells": [
    {
      "cell_type": "markdown",
      "metadata": {
        "id": "view-in-github",
        "colab_type": "text"
      },
      "source": [
        "<a href=\"https://colab.research.google.com/github/luizmv8080/aprendizaje-profundo/blob/main/Tarea1/Ejercicio_3_2.ipynb\" target=\"_parent\"><img src=\"https://colab.research.google.com/assets/colab-badge.svg\" alt=\"Open In Colab\"/></a>"
      ]
    },
    {
      "cell_type": "markdown",
      "source": [
        "# Regresion lineal con Pytorch\n",
        "## Red neuronal a medio nivel"
      ],
      "metadata": {
        "id": "Z1i5NSAVYtfO"
      }
    },
    {
      "cell_type": "code",
      "execution_count": 196,
      "metadata": {
        "id": "0oCQoPpJYrF9"
      },
      "outputs": [],
      "source": [
        "import os\n",
        "import random\n",
        "import numpy as np\n",
        "import pandas as pd\n",
        "import torch\n",
        "import torch.nn as nn\n",
        "import torch.nn.functional as F\n",
        "import torch.optim as optim\n",
        "from torch.utils.data import DataLoader, TensorDataset"
      ]
    },
    {
      "cell_type": "code",
      "source": [
        "URL = 'https://raw.githubusercontent.com/gibranfp/CursoAprendizajeProfundo/2023-1/data/califs/califs.csv'\n",
        "data_dir = '../data'\n",
        "filepath = os.path.join(data_dir, 'califs.csv')\n",
        "\n",
        "def set_seed(seed=0):\n",
        "    \"\"\"Initializes pseudo-random number generators.\"\"\"\n",
        "    random.seed(seed)\n",
        "    np.random.seed(seed)\n",
        "    torch.manual_seed(seed)\n",
        "\n",
        "! mkdir {data_dir}\n",
        "! wget -nc {URL} -O {filepath}"
      ],
      "metadata": {
        "colab": {
          "base_uri": "https://localhost:8080/"
        },
        "id": "o9C8zu1bZTlr",
        "outputId": "dae6f500-38da-4b2f-f926-b59115b27d94"
      },
      "execution_count": 197,
      "outputs": [
        {
          "output_type": "stream",
          "name": "stdout",
          "text": [
            "mkdir: cannot create directory ‘../data’: File exists\n",
            "File ‘../data/califs.csv’ already there; not retrieving.\n"
          ]
        }
      ]
    },
    {
      "cell_type": "code",
      "source": [
        "df = pd.read_csv(filepath)\n",
        "df.head(2)"
      ],
      "metadata": {
        "colab": {
          "base_uri": "https://localhost:8080/",
          "height": 111
        },
        "id": "nRv8kWz3ZZKa",
        "outputId": "c7c92bf6-ffdf-4ffc-ca00-b2dc9fdbeb57"
      },
      "execution_count": 198,
      "outputs": [
        {
          "output_type": "execute_result",
          "data": {
            "text/plain": [
              "   prev  horas  calif\n",
              "0   5.6    8.2    5.1\n",
              "1   6.7    9.3    5.9"
            ],
            "text/html": [
              "\n",
              "  <div id=\"df-6a807d2c-251a-4b2b-9e41-9ea168c20985\">\n",
              "    <div class=\"colab-df-container\">\n",
              "      <div>\n",
              "<style scoped>\n",
              "    .dataframe tbody tr th:only-of-type {\n",
              "        vertical-align: middle;\n",
              "    }\n",
              "\n",
              "    .dataframe tbody tr th {\n",
              "        vertical-align: top;\n",
              "    }\n",
              "\n",
              "    .dataframe thead th {\n",
              "        text-align: right;\n",
              "    }\n",
              "</style>\n",
              "<table border=\"1\" class=\"dataframe\">\n",
              "  <thead>\n",
              "    <tr style=\"text-align: right;\">\n",
              "      <th></th>\n",
              "      <th>prev</th>\n",
              "      <th>horas</th>\n",
              "      <th>calif</th>\n",
              "    </tr>\n",
              "  </thead>\n",
              "  <tbody>\n",
              "    <tr>\n",
              "      <th>0</th>\n",
              "      <td>5.6</td>\n",
              "      <td>8.2</td>\n",
              "      <td>5.1</td>\n",
              "    </tr>\n",
              "    <tr>\n",
              "      <th>1</th>\n",
              "      <td>6.7</td>\n",
              "      <td>9.3</td>\n",
              "      <td>5.9</td>\n",
              "    </tr>\n",
              "  </tbody>\n",
              "</table>\n",
              "</div>\n",
              "      <button class=\"colab-df-convert\" onclick=\"convertToInteractive('df-6a807d2c-251a-4b2b-9e41-9ea168c20985')\"\n",
              "              title=\"Convert this dataframe to an interactive table.\"\n",
              "              style=\"display:none;\">\n",
              "        \n",
              "  <svg xmlns=\"http://www.w3.org/2000/svg\" height=\"24px\"viewBox=\"0 0 24 24\"\n",
              "       width=\"24px\">\n",
              "    <path d=\"M0 0h24v24H0V0z\" fill=\"none\"/>\n",
              "    <path d=\"M18.56 5.44l.94 2.06.94-2.06 2.06-.94-2.06-.94-.94-2.06-.94 2.06-2.06.94zm-11 1L8.5 8.5l.94-2.06 2.06-.94-2.06-.94L8.5 2.5l-.94 2.06-2.06.94zm10 10l.94 2.06.94-2.06 2.06-.94-2.06-.94-.94-2.06-.94 2.06-2.06.94z\"/><path d=\"M17.41 7.96l-1.37-1.37c-.4-.4-.92-.59-1.43-.59-.52 0-1.04.2-1.43.59L10.3 9.45l-7.72 7.72c-.78.78-.78 2.05 0 2.83L4 21.41c.39.39.9.59 1.41.59.51 0 1.02-.2 1.41-.59l7.78-7.78 2.81-2.81c.8-.78.8-2.07 0-2.86zM5.41 20L4 18.59l7.72-7.72 1.47 1.35L5.41 20z\"/>\n",
              "  </svg>\n",
              "      </button>\n",
              "      \n",
              "  <style>\n",
              "    .colab-df-container {\n",
              "      display:flex;\n",
              "      flex-wrap:wrap;\n",
              "      gap: 12px;\n",
              "    }\n",
              "\n",
              "    .colab-df-convert {\n",
              "      background-color: #E8F0FE;\n",
              "      border: none;\n",
              "      border-radius: 50%;\n",
              "      cursor: pointer;\n",
              "      display: none;\n",
              "      fill: #1967D2;\n",
              "      height: 32px;\n",
              "      padding: 0 0 0 0;\n",
              "      width: 32px;\n",
              "    }\n",
              "\n",
              "    .colab-df-convert:hover {\n",
              "      background-color: #E2EBFA;\n",
              "      box-shadow: 0px 1px 2px rgba(60, 64, 67, 0.3), 0px 1px 3px 1px rgba(60, 64, 67, 0.15);\n",
              "      fill: #174EA6;\n",
              "    }\n",
              "\n",
              "    [theme=dark] .colab-df-convert {\n",
              "      background-color: #3B4455;\n",
              "      fill: #D2E3FC;\n",
              "    }\n",
              "\n",
              "    [theme=dark] .colab-df-convert:hover {\n",
              "      background-color: #434B5C;\n",
              "      box-shadow: 0px 1px 3px 1px rgba(0, 0, 0, 0.15);\n",
              "      filter: drop-shadow(0px 1px 2px rgba(0, 0, 0, 0.3));\n",
              "      fill: #FFFFFF;\n",
              "    }\n",
              "  </style>\n",
              "\n",
              "      <script>\n",
              "        const buttonEl =\n",
              "          document.querySelector('#df-6a807d2c-251a-4b2b-9e41-9ea168c20985 button.colab-df-convert');\n",
              "        buttonEl.style.display =\n",
              "          google.colab.kernel.accessAllowed ? 'block' : 'none';\n",
              "\n",
              "        async function convertToInteractive(key) {\n",
              "          const element = document.querySelector('#df-6a807d2c-251a-4b2b-9e41-9ea168c20985');\n",
              "          const dataTable =\n",
              "            await google.colab.kernel.invokeFunction('convertToInteractive',\n",
              "                                                     [key], {});\n",
              "          if (!dataTable) return;\n",
              "\n",
              "          const docLinkHtml = 'Like what you see? Visit the ' +\n",
              "            '<a target=\"_blank\" href=https://colab.research.google.com/notebooks/data_table.ipynb>data table notebook</a>'\n",
              "            + ' to learn more about interactive tables.';\n",
              "          element.innerHTML = '';\n",
              "          dataTable['output_type'] = 'display_data';\n",
              "          await google.colab.output.renderOutput(dataTable, element);\n",
              "          const docLink = document.createElement('div');\n",
              "          docLink.innerHTML = docLinkHtml;\n",
              "          element.appendChild(docLink);\n",
              "        }\n",
              "      </script>\n",
              "    </div>\n",
              "  </div>\n",
              "  "
            ]
          },
          "metadata": {},
          "execution_count": 198
        }
      ]
    },
    {
      "cell_type": "code",
      "source": [
        "x_trn = np.array(df.iloc[:,:2], dtype=\"float32\")\n",
        "y_trn = np.array(df.iloc[:,-1], dtype=\"float32\")[..., np.newaxis]\n",
        "\n",
        "x_trn = torch.tensor(x_trn)\n",
        "y_trn = torch.tensor(y_trn)"
      ],
      "metadata": {
        "id": "vN3BR3JNaFfu"
      },
      "execution_count": 199,
      "outputs": []
    },
    {
      "cell_type": "code",
      "source": [
        "ds = TensorDataset(x_trn, y_trn)"
      ],
      "metadata": {
        "id": "wyqnS0JTaZfo"
      },
      "execution_count": 200,
      "outputs": []
    },
    {
      "cell_type": "code",
      "source": [
        "def build_dl(batch_size=16, shuffle=True):\n",
        "    return DataLoader(ds, batch_size=batch_size, shuffle=True)\n",
        "\n",
        "dl = build_dl()"
      ],
      "metadata": {
        "id": "AOg9DKzDaON4"
      },
      "execution_count": 201,
      "outputs": []
    },
    {
      "cell_type": "code",
      "source": [
        "def train(model, dl, lr, epochs=10):\n",
        "\n",
        "    opt = optim.SGD(model.parameters(), lr=lr)\n",
        "    loss_hist = []\n",
        "\n",
        "    for epoch in range(epochs):\n",
        "\n",
        "        loss_hist = []\n",
        "        \n",
        "        for x, y_true in dl:\n",
        "  \n",
        "            y_lgts = model(x)\n",
        "\n",
        "            loss = F.mse_loss(y_lgts, y_true)\n",
        "\n",
        "            opt.zero_grad()\n",
        "\n",
        "            loss.backward()\n",
        "\n",
        "            opt.step()\n",
        "\n",
        "            loss_hist.append(loss.item() * 100)\n",
        "        loss = np.mean(loss_hist)\n",
        "\n",
        "        if epoch == (epochs - 1):\n",
        "          print(f'E{epoch:02} loss=[{loss:6.2f}]')\n",
        "\n",
        "\n",
        "        \n",
        "def train_model(build_model, lr, epochs=1000):\n",
        "    set_seed()\n",
        "    dl = build_dl()\n",
        "    model = build_model\n",
        "    train(model, dl, lr, epochs)"
      ],
      "metadata": {
        "id": "YMq5sdcmaeYL"
      },
      "execution_count": 202,
      "outputs": []
    },
    {
      "cell_type": "markdown",
      "source": [
        "### Contruyendo modelo a medio nivel con dos capas ocultas"
      ],
      "metadata": {
        "id": "ny0gbOSXa5R5"
      }
    },
    {
      "cell_type": "code",
      "source": [
        "#se define la clase RegLin que hereda de torch.nn.Module\n",
        "class LinRegMedTwo(nn.Module):\n",
        "\n",
        "    #se define el inicializador\n",
        "    def __init__(self,capa_uno,capa_dos):\n",
        "        # se llama al inicializador de la clase padre\n",
        "        super().__init__()\n",
        "        # se definen las capas como atributos de la clase\n",
        "        self.fc1 = nn.Linear(2, capa_uno)\n",
        "        self.fc2 = nn.Linear(capa_uno, capa_dos)\n",
        "        self.fc3 = nn.Linear(capa_dos, 1)\n",
        "\n",
        "    # método para inferencia\n",
        "    def forward(self, x):\n",
        "        x = self.fc1(x)\n",
        "        x = F.relu(x)\n",
        "        x = self.fc2(x)\n",
        "        x = F.relu(x)\n",
        "        x = self.fc3(x)\n",
        "        x = F.relu(x)\n",
        "        return x\n",
        "\n",
        "def build_med_two(capa_uno,capa_dos):\n",
        "    return LinRegMedTwo(capa_uno,capa_dos)\n"
      ],
      "metadata": {
        "id": "7Zb2xCQVazSi"
      },
      "execution_count": 204,
      "outputs": []
    },
    {
      "cell_type": "code",
      "source": [
        "numero_capas = [11,10,6,4,2]\n",
        "learning_rate = [6, 4, 2]\n",
        "\n",
        "for i in numero_capas:\n",
        "  for j in learning_rate:\n",
        "    med_two = build_med_two(i,j)\n",
        "    print(\"Para un numero de neuronas de. {0} en la primera capa y un lr de {1} se tiene una perdida de:\".format(i,j))\n",
        "    train_model(med_two, 0.0001)\n",
        "  print(\"=====================================================\")\n",
        "\n"
      ],
      "metadata": {
        "colab": {
          "base_uri": "https://localhost:8080/"
        },
        "id": "p0fr7JKPdSTA",
        "outputId": "f38f4e00-b1a8-49dc-f433-69fee911d59c"
      },
      "execution_count": 141,
      "outputs": [
        {
          "output_type": "stream",
          "name": "stdout",
          "text": [
            "Para un numero de neuronas de. 11 en la primera capa y un lr de 6 se tiene una perdida de:\n",
            "E999 loss=[5668.87]\n",
            "Para un numero de neuronas de. 11 en la primera capa y un lr de 4 se tiene una perdida de:\n",
            "E999 loss=[ 20.00]\n",
            "Para un numero de neuronas de. 11 en la primera capa y un lr de 2 se tiene una perdida de:\n",
            "E999 loss=[1202.21]\n",
            "=====================================================\n",
            "Para un numero de neuronas de. 10 en la primera capa y un lr de 6 se tiene una perdida de:\n",
            "E999 loss=[ 19.71]\n",
            "Para un numero de neuronas de. 10 en la primera capa y un lr de 4 se tiene una perdida de:\n",
            "E999 loss=[5668.87]\n",
            "Para un numero de neuronas de. 10 en la primera capa y un lr de 2 se tiene una perdida de:\n",
            "E999 loss=[ 20.87]\n",
            "=====================================================\n",
            "Para un numero de neuronas de. 6 en la primera capa y un lr de 6 se tiene una perdida de:\n",
            "E999 loss=[ 18.90]\n",
            "Para un numero de neuronas de. 6 en la primera capa y un lr de 4 se tiene una perdida de:\n",
            "E999 loss=[5668.87]\n",
            "Para un numero de neuronas de. 6 en la primera capa y un lr de 2 se tiene una perdida de:\n",
            "E999 loss=[1107.81]\n",
            "=====================================================\n",
            "Para un numero de neuronas de. 4 en la primera capa y un lr de 6 se tiene una perdida de:\n",
            "E999 loss=[5668.87]\n",
            "Para un numero de neuronas de. 4 en la primera capa y un lr de 4 se tiene una perdida de:\n",
            "E999 loss=[5668.87]\n",
            "Para un numero de neuronas de. 4 en la primera capa y un lr de 2 se tiene una perdida de:\n",
            "E999 loss=[ 24.20]\n",
            "=====================================================\n",
            "Para un numero de neuronas de. 2 en la primera capa y un lr de 6 se tiene una perdida de:\n",
            "E999 loss=[ 94.61]\n",
            "Para un numero de neuronas de. 2 en la primera capa y un lr de 4 se tiene una perdida de:\n",
            "E999 loss=[5668.87]\n",
            "Para un numero de neuronas de. 2 en la primera capa y un lr de 2 se tiene una perdida de:\n",
            "E999 loss=[ 23.09]\n",
            "=====================================================\n"
          ]
        }
      ]
    },
    {
      "cell_type": "code",
      "source": [
        "med_two = build_med_two(6,6)\n",
        "train_model(med_two,0.002)"
      ],
      "metadata": {
        "colab": {
          "base_uri": "https://localhost:8080/"
        },
        "id": "_HpP7eQFdmWY",
        "outputId": "e2e17daa-1fa1-475d-a192-fedc32e3eb1c"
      },
      "execution_count": 205,
      "outputs": [
        {
          "output_type": "stream",
          "name": "stdout",
          "text": [
            "E999 loss=[ 18.38]\n"
          ]
        }
      ]
    },
    {
      "cell_type": "code",
      "source": [
        "lista_parametros = list(med_two.named_parameters())"
      ],
      "metadata": {
        "id": "DQYum9PnhawK"
      },
      "execution_count": 206,
      "outputs": []
    },
    {
      "cell_type": "code",
      "source": [
        "#lista_parametros"
      ],
      "metadata": {
        "id": "YOiPIKk4iU6y"
      },
      "execution_count": 207,
      "outputs": []
    },
    {
      "cell_type": "code",
      "source": [
        "def redNeuronalDos(x,w1,w2,w3,b1,b2,b3):\n",
        "  \n",
        "  X = x[:,np.newaxis]\n",
        "  z1 = np.dot(w1,X) + b1.T\n",
        "  a1 = np.maximum(0,z1)\n",
        "  z2 = np.dot(w2,a1) + b2.T\n",
        "  a2 = np.maximum(0,z2)\n",
        "  z3 = np.dot(w3,a2) + b3\n",
        "  pred = np.maximum(0,z3)\n",
        "  return pred.item()"
      ],
      "metadata": {
        "id": "Pi6yp6YyiXfU"
      },
      "execution_count": 208,
      "outputs": []
    },
    {
      "cell_type": "code",
      "source": [
        "w1 = lista_parametros[0][1].detach().numpy()\n",
        "b1 = np.array([lista_parametros[1][1].detach().numpy()])\n",
        "w2 = lista_parametros[2][1].detach().numpy()\n",
        "b2 = np.array([lista_parametros[3][1].detach().numpy()])\n",
        "w3 = lista_parametros[4][1].detach().numpy()\n",
        "b3 = lista_parametros[5][1].detach().numpy().item()\n",
        "\n",
        "y_prediccion_dos = []\n",
        "for i in range(x_trn.shape[0]):\n",
        "  y_prediccion_dos.append(redNeuronalDos(x_trn[i],w1,w2,w3,b1,b2,b3))"
      ],
      "metadata": {
        "id": "xH7dT9W7ii8G"
      },
      "execution_count": 209,
      "outputs": []
    },
    {
      "cell_type": "code",
      "source": [
        "x_trn[0]"
      ],
      "metadata": {
        "colab": {
          "base_uri": "https://localhost:8080/"
        },
        "id": "amVKrqv9B9YP",
        "outputId": "affc1c93-8e8e-42a1-c0b4-811621a2a877"
      },
      "execution_count": 190,
      "outputs": [
        {
          "output_type": "execute_result",
          "data": {
            "text/plain": [
              "tensor([5.6000, 8.2000])"
            ]
          },
          "metadata": {},
          "execution_count": 190
        }
      ]
    },
    {
      "cell_type": "code",
      "source": [
        "df_rdc = df.copy()\n",
        "df_rdc['Prediccion'] = y_prediccion_dos\n",
        "df_rdc.head(3)"
      ],
      "metadata": {
        "colab": {
          "base_uri": "https://localhost:8080/",
          "height": 142
        },
        "id": "qudawhFUjCc9",
        "outputId": "76c75336-f598-4f12-b393-d16be156eaf1"
      },
      "execution_count": 210,
      "outputs": [
        {
          "output_type": "execute_result",
          "data": {
            "text/plain": [
              "   prev  horas  calif  Prediccion\n",
              "0   5.6    8.2    5.1    5.475646\n",
              "1   6.7    9.3    5.9    6.301627\n",
              "2   5.1   10.0    5.4    6.275753"
            ],
            "text/html": [
              "\n",
              "  <div id=\"df-571010f7-885e-49ff-99a0-03866c387491\">\n",
              "    <div class=\"colab-df-container\">\n",
              "      <div>\n",
              "<style scoped>\n",
              "    .dataframe tbody tr th:only-of-type {\n",
              "        vertical-align: middle;\n",
              "    }\n",
              "\n",
              "    .dataframe tbody tr th {\n",
              "        vertical-align: top;\n",
              "    }\n",
              "\n",
              "    .dataframe thead th {\n",
              "        text-align: right;\n",
              "    }\n",
              "</style>\n",
              "<table border=\"1\" class=\"dataframe\">\n",
              "  <thead>\n",
              "    <tr style=\"text-align: right;\">\n",
              "      <th></th>\n",
              "      <th>prev</th>\n",
              "      <th>horas</th>\n",
              "      <th>calif</th>\n",
              "      <th>Prediccion</th>\n",
              "    </tr>\n",
              "  </thead>\n",
              "  <tbody>\n",
              "    <tr>\n",
              "      <th>0</th>\n",
              "      <td>5.6</td>\n",
              "      <td>8.2</td>\n",
              "      <td>5.1</td>\n",
              "      <td>5.475646</td>\n",
              "    </tr>\n",
              "    <tr>\n",
              "      <th>1</th>\n",
              "      <td>6.7</td>\n",
              "      <td>9.3</td>\n",
              "      <td>5.9</td>\n",
              "      <td>6.301627</td>\n",
              "    </tr>\n",
              "    <tr>\n",
              "      <th>2</th>\n",
              "      <td>5.1</td>\n",
              "      <td>10.0</td>\n",
              "      <td>5.4</td>\n",
              "      <td>6.275753</td>\n",
              "    </tr>\n",
              "  </tbody>\n",
              "</table>\n",
              "</div>\n",
              "      <button class=\"colab-df-convert\" onclick=\"convertToInteractive('df-571010f7-885e-49ff-99a0-03866c387491')\"\n",
              "              title=\"Convert this dataframe to an interactive table.\"\n",
              "              style=\"display:none;\">\n",
              "        \n",
              "  <svg xmlns=\"http://www.w3.org/2000/svg\" height=\"24px\"viewBox=\"0 0 24 24\"\n",
              "       width=\"24px\">\n",
              "    <path d=\"M0 0h24v24H0V0z\" fill=\"none\"/>\n",
              "    <path d=\"M18.56 5.44l.94 2.06.94-2.06 2.06-.94-2.06-.94-.94-2.06-.94 2.06-2.06.94zm-11 1L8.5 8.5l.94-2.06 2.06-.94-2.06-.94L8.5 2.5l-.94 2.06-2.06.94zm10 10l.94 2.06.94-2.06 2.06-.94-2.06-.94-.94-2.06-.94 2.06-2.06.94z\"/><path d=\"M17.41 7.96l-1.37-1.37c-.4-.4-.92-.59-1.43-.59-.52 0-1.04.2-1.43.59L10.3 9.45l-7.72 7.72c-.78.78-.78 2.05 0 2.83L4 21.41c.39.39.9.59 1.41.59.51 0 1.02-.2 1.41-.59l7.78-7.78 2.81-2.81c.8-.78.8-2.07 0-2.86zM5.41 20L4 18.59l7.72-7.72 1.47 1.35L5.41 20z\"/>\n",
              "  </svg>\n",
              "      </button>\n",
              "      \n",
              "  <style>\n",
              "    .colab-df-container {\n",
              "      display:flex;\n",
              "      flex-wrap:wrap;\n",
              "      gap: 12px;\n",
              "    }\n",
              "\n",
              "    .colab-df-convert {\n",
              "      background-color: #E8F0FE;\n",
              "      border: none;\n",
              "      border-radius: 50%;\n",
              "      cursor: pointer;\n",
              "      display: none;\n",
              "      fill: #1967D2;\n",
              "      height: 32px;\n",
              "      padding: 0 0 0 0;\n",
              "      width: 32px;\n",
              "    }\n",
              "\n",
              "    .colab-df-convert:hover {\n",
              "      background-color: #E2EBFA;\n",
              "      box-shadow: 0px 1px 2px rgba(60, 64, 67, 0.3), 0px 1px 3px 1px rgba(60, 64, 67, 0.15);\n",
              "      fill: #174EA6;\n",
              "    }\n",
              "\n",
              "    [theme=dark] .colab-df-convert {\n",
              "      background-color: #3B4455;\n",
              "      fill: #D2E3FC;\n",
              "    }\n",
              "\n",
              "    [theme=dark] .colab-df-convert:hover {\n",
              "      background-color: #434B5C;\n",
              "      box-shadow: 0px 1px 3px 1px rgba(0, 0, 0, 0.15);\n",
              "      filter: drop-shadow(0px 1px 2px rgba(0, 0, 0, 0.3));\n",
              "      fill: #FFFFFF;\n",
              "    }\n",
              "  </style>\n",
              "\n",
              "      <script>\n",
              "        const buttonEl =\n",
              "          document.querySelector('#df-571010f7-885e-49ff-99a0-03866c387491 button.colab-df-convert');\n",
              "        buttonEl.style.display =\n",
              "          google.colab.kernel.accessAllowed ? 'block' : 'none';\n",
              "\n",
              "        async function convertToInteractive(key) {\n",
              "          const element = document.querySelector('#df-571010f7-885e-49ff-99a0-03866c387491');\n",
              "          const dataTable =\n",
              "            await google.colab.kernel.invokeFunction('convertToInteractive',\n",
              "                                                     [key], {});\n",
              "          if (!dataTable) return;\n",
              "\n",
              "          const docLinkHtml = 'Like what you see? Visit the ' +\n",
              "            '<a target=\"_blank\" href=https://colab.research.google.com/notebooks/data_table.ipynb>data table notebook</a>'\n",
              "            + ' to learn more about interactive tables.';\n",
              "          element.innerHTML = '';\n",
              "          dataTable['output_type'] = 'display_data';\n",
              "          await google.colab.output.renderOutput(dataTable, element);\n",
              "          const docLink = document.createElement('div');\n",
              "          docLink.innerHTML = docLinkHtml;\n",
              "          element.appendChild(docLink);\n",
              "        }\n",
              "      </script>\n",
              "    </div>\n",
              "  </div>\n",
              "  "
            ]
          },
          "metadata": {},
          "execution_count": 210
        }
      ]
    },
    {
      "cell_type": "markdown",
      "source": [
        "### Contruyendo modelo a medio nivel con una capa oculta"
      ],
      "metadata": {
        "id": "RBCMTKfRnWox"
      }
    },
    {
      "cell_type": "code",
      "source": [
        "class LinRegMedOne(nn.Module):\n",
        "\n",
        "    #se define el inicializador\n",
        "    def __init__(self,n_neuronas):\n",
        "        # se llama al inicializador de la clase padre\n",
        "        super().__init__()\n",
        "        # se definen las capas como atributos de la clase\n",
        "        self.fc1 = nn.Linear(2, n_neuronas)\n",
        "        self.fc2 = nn.Linear(n_neuronas, 1)\n",
        "\n",
        "    # método para inferencia\n",
        "    def forward(self, x):\n",
        "        x = self.fc1(x)\n",
        "        x = F.relu(x)\n",
        "        x = self.fc2(x)\n",
        "        x = F.relu(x)\n",
        "        return x\n",
        "\n",
        "def build_med_one(n_neuronas):\n",
        "    return LinRegMedOne(n_neuronas)"
      ],
      "metadata": {
        "id": "fxYwyGfOjR-G"
      },
      "execution_count": 234,
      "outputs": []
    },
    {
      "cell_type": "code",
      "source": [
        "numero_neuronas = [11,10,6,4,2]\n",
        "\n",
        "\n",
        "for i in numero_neuronas:\n",
        "  med_one = build_med_one(i)\n",
        "  print(\"Para un numero de neuronas de. {0} en la primera capa se tiene una perdida de:\".format(i))\n",
        "  train_model(med_one, 0.0001)\n",
        "  print(\"=====================================================\")"
      ],
      "metadata": {
        "colab": {
          "base_uri": "https://localhost:8080/"
        },
        "id": "is7Td2tNN_rw",
        "outputId": "269b76ed-d80a-4774-9897-ee47b0d95c34"
      },
      "execution_count": 215,
      "outputs": [
        {
          "output_type": "stream",
          "name": "stdout",
          "text": [
            "Para un numero de neuronas de. 11 en la primera capa se tiene una perdida de:\n",
            "E999 loss=[5668.87]\n",
            "=====================================================\n",
            "Para un numero de neuronas de. 10 en la primera capa se tiene una perdida de:\n",
            "E999 loss=[ 18.85]\n",
            "=====================================================\n",
            "Para un numero de neuronas de. 6 en la primera capa se tiene una perdida de:\n",
            "E999 loss=[ 21.25]\n",
            "=====================================================\n",
            "Para un numero de neuronas de. 4 en la primera capa se tiene una perdida de:\n",
            "E999 loss=[ 24.94]\n",
            "=====================================================\n",
            "Para un numero de neuronas de. 2 en la primera capa se tiene una perdida de:\n",
            "E999 loss=[1118.82]\n",
            "=====================================================\n"
          ]
        }
      ]
    },
    {
      "cell_type": "code",
      "source": [
        "med_one = build_med_one(10)\n",
        "train_model(med_one, 0.002)"
      ],
      "metadata": {
        "colab": {
          "base_uri": "https://localhost:8080/"
        },
        "id": "GMgbJRUwOb51",
        "outputId": "c57492a1-9d9f-4479-ed10-c7089e7d6512"
      },
      "execution_count": 235,
      "outputs": [
        {
          "output_type": "stream",
          "name": "stdout",
          "text": [
            "E999 loss=[ 18.43]\n"
          ]
        }
      ]
    },
    {
      "cell_type": "code",
      "source": [
        "lista_parametros_dos = list(med_one.named_parameters())"
      ],
      "metadata": {
        "id": "6iOfIz4KOlQv"
      },
      "execution_count": 236,
      "outputs": []
    },
    {
      "cell_type": "code",
      "source": [
        "def redNeuronalUno(x,w1,w2,b1,b2):\n",
        "  \n",
        "  X = x[:,np.newaxis]\n",
        "  z = np.dot(w1,X) + b1.T\n",
        "  a1 = np.maximum(0,z)\n",
        "  z2 = np.dot(w2,a1) + b2\n",
        "  pred = np.maximum(0,z2)\n",
        "\n",
        "  return pred.item()"
      ],
      "metadata": {
        "id": "8XHIYZ9YO6Q8"
      },
      "execution_count": 240,
      "outputs": []
    },
    {
      "cell_type": "code",
      "source": [
        "w1_1 = lista_parametros_dos[0][1].detach().numpy()\n",
        "b1_1 = np.array([lista_parametros_dos[1][1].detach().numpy()])\n",
        "w2_1 = lista_parametros_dos[2][1].detach().numpy()\n",
        "b2_1 = lista_parametros_dos[3][1].detach().numpy().item()\n",
        "\n",
        "y_prediccion_dos = []\n",
        "for i in range(x_trn.shape[0]):\n",
        "  y_prediccion_dos.append(redNeuronalUno(x_trn[i],w1_1,w2_1,b1_1,b2_1))"
      ],
      "metadata": {
        "id": "h-uminPIO-_K"
      },
      "execution_count": 241,
      "outputs": []
    },
    {
      "cell_type": "code",
      "source": [
        "df_rdc = df.copy()\n",
        "df_rdc['Prediccion'] = y_prediccion_dos\n",
        "df_rdc.head(3)"
      ],
      "metadata": {
        "colab": {
          "base_uri": "https://localhost:8080/",
          "height": 142
        },
        "id": "cgiidGQCPCwa",
        "outputId": "62df9254-9359-4c08-808a-e8471ef2daca"
      },
      "execution_count": 242,
      "outputs": [
        {
          "output_type": "execute_result",
          "data": {
            "text/plain": [
              "   prev  horas  calif  Prediccion\n",
              "0   5.6    8.2    5.1    5.405046\n",
              "1   6.7    9.3    5.9    6.256642\n",
              "2   5.1   10.0    5.4    6.186957"
            ],
            "text/html": [
              "\n",
              "  <div id=\"df-a1acfc22-6a1d-43d8-8c38-e69a53b97b7e\">\n",
              "    <div class=\"colab-df-container\">\n",
              "      <div>\n",
              "<style scoped>\n",
              "    .dataframe tbody tr th:only-of-type {\n",
              "        vertical-align: middle;\n",
              "    }\n",
              "\n",
              "    .dataframe tbody tr th {\n",
              "        vertical-align: top;\n",
              "    }\n",
              "\n",
              "    .dataframe thead th {\n",
              "        text-align: right;\n",
              "    }\n",
              "</style>\n",
              "<table border=\"1\" class=\"dataframe\">\n",
              "  <thead>\n",
              "    <tr style=\"text-align: right;\">\n",
              "      <th></th>\n",
              "      <th>prev</th>\n",
              "      <th>horas</th>\n",
              "      <th>calif</th>\n",
              "      <th>Prediccion</th>\n",
              "    </tr>\n",
              "  </thead>\n",
              "  <tbody>\n",
              "    <tr>\n",
              "      <th>0</th>\n",
              "      <td>5.6</td>\n",
              "      <td>8.2</td>\n",
              "      <td>5.1</td>\n",
              "      <td>5.405046</td>\n",
              "    </tr>\n",
              "    <tr>\n",
              "      <th>1</th>\n",
              "      <td>6.7</td>\n",
              "      <td>9.3</td>\n",
              "      <td>5.9</td>\n",
              "      <td>6.256642</td>\n",
              "    </tr>\n",
              "    <tr>\n",
              "      <th>2</th>\n",
              "      <td>5.1</td>\n",
              "      <td>10.0</td>\n",
              "      <td>5.4</td>\n",
              "      <td>6.186957</td>\n",
              "    </tr>\n",
              "  </tbody>\n",
              "</table>\n",
              "</div>\n",
              "      <button class=\"colab-df-convert\" onclick=\"convertToInteractive('df-a1acfc22-6a1d-43d8-8c38-e69a53b97b7e')\"\n",
              "              title=\"Convert this dataframe to an interactive table.\"\n",
              "              style=\"display:none;\">\n",
              "        \n",
              "  <svg xmlns=\"http://www.w3.org/2000/svg\" height=\"24px\"viewBox=\"0 0 24 24\"\n",
              "       width=\"24px\">\n",
              "    <path d=\"M0 0h24v24H0V0z\" fill=\"none\"/>\n",
              "    <path d=\"M18.56 5.44l.94 2.06.94-2.06 2.06-.94-2.06-.94-.94-2.06-.94 2.06-2.06.94zm-11 1L8.5 8.5l.94-2.06 2.06-.94-2.06-.94L8.5 2.5l-.94 2.06-2.06.94zm10 10l.94 2.06.94-2.06 2.06-.94-2.06-.94-.94-2.06-.94 2.06-2.06.94z\"/><path d=\"M17.41 7.96l-1.37-1.37c-.4-.4-.92-.59-1.43-.59-.52 0-1.04.2-1.43.59L10.3 9.45l-7.72 7.72c-.78.78-.78 2.05 0 2.83L4 21.41c.39.39.9.59 1.41.59.51 0 1.02-.2 1.41-.59l7.78-7.78 2.81-2.81c.8-.78.8-2.07 0-2.86zM5.41 20L4 18.59l7.72-7.72 1.47 1.35L5.41 20z\"/>\n",
              "  </svg>\n",
              "      </button>\n",
              "      \n",
              "  <style>\n",
              "    .colab-df-container {\n",
              "      display:flex;\n",
              "      flex-wrap:wrap;\n",
              "      gap: 12px;\n",
              "    }\n",
              "\n",
              "    .colab-df-convert {\n",
              "      background-color: #E8F0FE;\n",
              "      border: none;\n",
              "      border-radius: 50%;\n",
              "      cursor: pointer;\n",
              "      display: none;\n",
              "      fill: #1967D2;\n",
              "      height: 32px;\n",
              "      padding: 0 0 0 0;\n",
              "      width: 32px;\n",
              "    }\n",
              "\n",
              "    .colab-df-convert:hover {\n",
              "      background-color: #E2EBFA;\n",
              "      box-shadow: 0px 1px 2px rgba(60, 64, 67, 0.3), 0px 1px 3px 1px rgba(60, 64, 67, 0.15);\n",
              "      fill: #174EA6;\n",
              "    }\n",
              "\n",
              "    [theme=dark] .colab-df-convert {\n",
              "      background-color: #3B4455;\n",
              "      fill: #D2E3FC;\n",
              "    }\n",
              "\n",
              "    [theme=dark] .colab-df-convert:hover {\n",
              "      background-color: #434B5C;\n",
              "      box-shadow: 0px 1px 3px 1px rgba(0, 0, 0, 0.15);\n",
              "      filter: drop-shadow(0px 1px 2px rgba(0, 0, 0, 0.3));\n",
              "      fill: #FFFFFF;\n",
              "    }\n",
              "  </style>\n",
              "\n",
              "      <script>\n",
              "        const buttonEl =\n",
              "          document.querySelector('#df-a1acfc22-6a1d-43d8-8c38-e69a53b97b7e button.colab-df-convert');\n",
              "        buttonEl.style.display =\n",
              "          google.colab.kernel.accessAllowed ? 'block' : 'none';\n",
              "\n",
              "        async function convertToInteractive(key) {\n",
              "          const element = document.querySelector('#df-a1acfc22-6a1d-43d8-8c38-e69a53b97b7e');\n",
              "          const dataTable =\n",
              "            await google.colab.kernel.invokeFunction('convertToInteractive',\n",
              "                                                     [key], {});\n",
              "          if (!dataTable) return;\n",
              "\n",
              "          const docLinkHtml = 'Like what you see? Visit the ' +\n",
              "            '<a target=\"_blank\" href=https://colab.research.google.com/notebooks/data_table.ipynb>data table notebook</a>'\n",
              "            + ' to learn more about interactive tables.';\n",
              "          element.innerHTML = '';\n",
              "          dataTable['output_type'] = 'display_data';\n",
              "          await google.colab.output.renderOutput(dataTable, element);\n",
              "          const docLink = document.createElement('div');\n",
              "          docLink.innerHTML = docLinkHtml;\n",
              "          element.appendChild(docLink);\n",
              "        }\n",
              "      </script>\n",
              "    </div>\n",
              "  </div>\n",
              "  "
            ]
          },
          "metadata": {},
          "execution_count": 242
        }
      ]
    },
    {
      "cell_type": "markdown",
      "source": [
        "# Prediccion para un alumno que estudió durante 12 horas para el examen y en un examen previo obtuvo 3 de calificación.\n",
        "\n",
        "### Para nuestra red con una sola capa se tiene:"
      ],
      "metadata": {
        "id": "opl4MfNAQZLq"
      }
    },
    {
      "cell_type": "code",
      "source": [
        "redNeuronalUno(np.array([3,12]),w1_1,w2_1,b1_1,b2_1)"
      ],
      "metadata": {
        "colab": {
          "base_uri": "https://localhost:8080/"
        },
        "id": "w328IwnePRo7",
        "outputId": "4c038af4-e07f-4822-d14d-2248b3b10c60"
      },
      "execution_count": 245,
      "outputs": [
        {
          "output_type": "execute_result",
          "data": {
            "text/plain": [
              "6.672335704008775"
            ]
          },
          "metadata": {},
          "execution_count": 245
        }
      ]
    },
    {
      "cell_type": "markdown",
      "source": [
        "### Para nuestra red con dos capas se tiene:"
      ],
      "metadata": {
        "id": "9QJYbXhuQiQi"
      }
    },
    {
      "cell_type": "code",
      "source": [
        "redNeuronalDos(np.array([3,12]),w1,w2,w3,b1,b2,b3)"
      ],
      "metadata": {
        "colab": {
          "base_uri": "https://localhost:8080/"
        },
        "id": "GUfCujpgQCgu",
        "outputId": "7bdbd59e-fe83-42aa-8c45-6e85d24f8266"
      },
      "execution_count": 247,
      "outputs": [
        {
          "output_type": "execute_result",
          "data": {
            "text/plain": [
              "6.559881507798183"
            ]
          },
          "metadata": {},
          "execution_count": 247
        }
      ]
    },
    {
      "cell_type": "markdown",
      "source": [
        "# Resultados de construccion de red neuronal de medio nivel\n",
        "\n",
        "### Con una red de una sola capa oculta\n",
        "\n",
        "Se creo una red con una sola capa oculta. Esa capa oculta cuenta con 10 neuronas. Se escogio un **learning rate** de **0.002** ya que minimizaba la perdida a un **18.43%**.\n",
        "\n",
        "Respecto a la prediccion de un estudiante que estudió durante 12 horas para el examen y en un examen previo obtuvo 3 de calificación, se obtuvo que sacaria una calificacion de **6.67**.\n",
        "\n",
        "### Con red de dos capas ocultas\n",
        "\n",
        "Se creo una red con dos capas ocultas. La segunda capa oculta solo contaba con 6 neuronas, mientras que la primera capa oculta conto con 6 neuronas. Se escogio un **learning rate** de **0.002** ya que minimizaba la perdida a un **18.38%**.\n",
        "\n",
        "Respecto a la prediccion de un estudiante que estudió durante 12 horas para el examen y en un examen previo obtuvo 3 de calificación, se obtuvo que sacaria una calificacion de **6.55**. Vemos que ambas predicciones se mantienen en el rango."
      ],
      "metadata": {
        "id": "F6fbDFGnRD3O"
      }
    }
  ]
}